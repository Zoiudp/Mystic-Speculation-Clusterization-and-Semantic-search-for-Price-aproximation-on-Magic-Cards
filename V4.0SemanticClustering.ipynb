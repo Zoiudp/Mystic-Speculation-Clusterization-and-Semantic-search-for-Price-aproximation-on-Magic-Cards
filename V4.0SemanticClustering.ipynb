{
 "cells": [
  {
   "cell_type": "code",
   "execution_count": 6,
   "metadata": {},
   "outputs": [
    {
     "name": "stderr",
     "output_type": "stream",
     "text": [
      "[nltk_data] Downloading package punkt to\n",
      "[nltk_data]     C:\\Users\\drodm\\AppData\\Roaming\\nltk_data...\n",
      "[nltk_data]   Package punkt is already up-to-date!\n",
      "[nltk_data] Downloading package stopwords to\n",
      "[nltk_data]     C:\\Users\\drodm\\AppData\\Roaming\\nltk_data...\n",
      "[nltk_data]   Package stopwords is already up-to-date!\n"
     ]
    },
    {
     "name": "stdout",
     "output_type": "stream",
     "text": [
      "Card Type: Sorcery, Mana Cost: 1, Text: Draw a card, Power: 0, Toughness: 0, Rarity: 2, Loyalty: 0\n",
      "Index(['Name', 'Total Mana Cost', 'Card Type', 'Oracle Text', 'Price1',\n",
      "       'Price2', 'Price3', 'rarity', 'Rarity Category'],\n",
      "      dtype='object')\n"
     ]
    },
    {
     "name": "stderr",
     "output_type": "stream",
     "text": [
      "C:\\Users\\drodm\\AppData\\Local\\Temp\\ipykernel_22868\\1882482725.py:140: FutureWarning:\n",
      "\n",
      "Setting an item of incompatible dtype is deprecated and will raise an error in a future version of pandas. Value '[0.04   0.     0.     ... 0.     0.     0.0625]' has dtype incompatible with int64, please explicitly cast to a compatible dtype first.\n",
      "\n"
     ]
    },
    {
     "name": "stdout",
     "output_type": "stream",
     "text": [
      "Number of clusters: 48\n",
      "Silhouette Score: 0.5829042287785701\n",
      "Adjusted Rand Index: 0.06959432537041228\n",
      "Carta mais semelhante:  Glimpse of Nature Texto da carta:  Whenever you cast a creature spell this turn, draw a card.\n"
     ]
    },
    {
     "name": "stderr",
     "output_type": "stream",
     "text": [
      "c:\\Users\\drodm\\AppData\\Local\\Programs\\Python\\Python312\\Lib\\site-packages\\sklearn\\base.py:493: UserWarning:\n",
      "\n",
      "X does not have valid feature names, but KMeans was fitted with feature names\n",
      "\n",
      "c:\\Users\\drodm\\AppData\\Local\\Programs\\Python\\Python312\\Lib\\site-packages\\sklearn\\base.py:493: UserWarning:\n",
      "\n",
      "X does not have valid feature names, but MinMaxScaler was fitted with feature names\n",
      "\n",
      "c:\\Users\\drodm\\AppData\\Local\\Programs\\Python\\Python312\\Lib\\site-packages\\umap\\umap_.py:1945: UserWarning:\n",
      "\n",
      "n_jobs value 1 overridden to 1 by setting random_state. Use no seed for parallelism.\n",
      "\n"
     ]
    },
    {
     "data": {
      "application/vnd.plotly.v1+json": {
       "config": {
        "plotlyServerURL": "https://plot.ly"
       },
       "data": [
        {
         "customdata": [
          [
           "Martial Coup"
          ],
          [
           "For the Common Good"
          ],
          [
           "Portent of Calamity"
          ],
          [
           "Curse of the Swine"
          ],
          [
           "Aggressive Biomancy"
          ],
          [
           "Cataclysmic Prospecting"
          ],
          [
           "Extract Brain"
          ],
          [
           "Hell to Pay"
          ],
          [
           "Black Sun's Zenith"
          ],
          [
           "Doppelgang"
          ],
          [
           "Dreadbore"
          ],
          [
           "Demonfire"
          ],
          [
           "Delete"
          ],
          [
           "Doomsday Confluence"
          ],
          [
           "Forth Eorlingas!"
          ],
          [
           "Earthquake"
          ],
          [
           "Open the Way"
          ],
          [
           "Burn from Within"
          ],
          [
           "Declaration in Stone"
          ],
          [
           "Dark Salvation"
          ],
          [
           "Green Sun's Twilight"
          ],
          [
           "Blue Sun's Twilight"
          ],
          [
           "Overmaster"
          ],
          [
           "Clan Defiance"
          ],
          [
           "Launch the Fleet"
          ],
          [
           "Glimpse the Unthinkable"
          ],
          [
           "Green Sun's Zenith"
          ],
          [
           "Damnable Pact"
          ],
          [
           "Eiganjo Uprising"
          ],
          [
           "Dance of the Manse"
          ],
          [
           "Smoke Spirits' Aid"
          ],
          [
           "Empty the Laboratory"
          ],
          [
           "Exponential Growth"
          ],
          [
           "Maddening Cacophony"
          ],
          [
           "Gelatinous Genesis"
          ],
          [
           "Primal Might"
          ],
          [
           "Animist's Awakening"
          ],
          [
           "Nylea's Intervention"
          ],
          [
           "Full Flowering"
          ],
          [
           "Ghired's Belligerence"
          ],
          [
           "Legion's End"
          ],
          [
           "Banefire"
          ],
          [
           "Minds Aglow"
          ],
          [
           "Kamahl's Druidic Vow"
          ],
          [
           "Jaya's Immolating Inferno"
          ],
          [
           "Sphinx's Decree"
          ],
          [
           "Entrancing Melody"
          ],
          [
           "Rhonas's Last Stand"
          ],
          [
           "Mizzium Mortars"
          ],
          [
           "Mind Shatter"
          ],
          [
           "Release the Gremlins"
          ],
          [
           "Battle at the Bridge"
          ],
          [
           "Collective Voyage"
          ],
          [
           "Death Grasp"
          ],
          [
           "Displacement Wave"
          ],
          [
           "Crater's Claws"
          ],
          [
           "Twinflame"
          ],
          [
           "Molten Disaster"
          ],
          [
           "Mind Grind"
          ],
          [
           "Killing Wave"
          ],
          [
           "Alliance of Arms"
          ],
          [
           "Red Sun's Zenith"
          ],
          [
           "Martyr's Cry"
          ],
          [
           "Braingeyser"
          ],
          [
           "Drain Power"
          ],
          [
           "Devastating Summons"
          ],
          [
           "Mind Twist"
          ],
          [
           "Rolling Earthquake"
          ],
          [
           "Living End"
          ],
          [
           "Siege of Towers"
          ],
          [
           "Mana Clash"
          ],
          [
           "Enshrined Memories"
          ],
          [
           "Glimpse of Nature"
          ],
          [
           "Devastating Dreams"
          ],
          [
           "Morningtide"
          ],
          [
           "Skullscorch"
          ],
          [
           "Turbulent Dreams"
          ],
          [
           "Nostalgic Dreams"
          ],
          [
           "Ghitu Fire"
          ],
          [
           "Do or Die"
          ],
          [
           "Elephant Resurgence"
          ],
          [
           "Stronghold Gambit"
          ],
          [
           "Flicker"
          ],
          [
           "Forget"
          ],
          [
           "Mana Severance"
          ],
          [
           "Paradigm Shift"
          ],
          [
           "Tariff"
          ],
          [
           "Energy Bolt"
          ]
         ],
         "hovertemplate": "x=%{x}<br>y=%{y}<br>z=%{z}<br>Name=%{customdata[0]}<br>Jaccard Score=%{marker.color}<extra></extra>",
         "legendgroup": "",
         "marker": {
          "color": [
           0,
           0,
           0.041666666666666664,
           0,
           0,
           0,
           0,
           0,
           0,
           0,
           0,
           0,
           0,
           0.058823529411764705,
           0,
           0,
           0,
           0,
           0,
           0,
           0.041666666666666664,
           0,
           0.2,
           0,
           0,
           0,
           0.058823529411764705,
           0,
           0,
           0,
           0,
           0,
           0,
           0,
           0,
           0,
           0,
           0,
           0,
           0,
           0,
           0,
           0,
           0,
           0,
           0,
           0,
           0,
           0,
           0,
           0,
           0,
           0,
           0,
           0,
           0,
           0,
           0,
           0,
           0,
           0,
           0,
           0.1,
           0,
           0,
           0,
           0,
           0,
           0,
           0,
           0,
           0,
           0.2857142857142857,
           0,
           0,
           0,
           0,
           0,
           0,
           0,
           0,
           0.058823529411764705,
           0,
           0,
           0,
           0,
           0,
           0
          ],
          "coloraxis": "coloraxis",
          "size": 5,
          "symbol": "circle"
         },
         "mode": "markers",
         "name": "",
         "scene": "scene",
         "showlegend": false,
         "type": "scatter3d",
         "x": [
          0,
          0,
          0.041666666666666664,
          0,
          0,
          0,
          0,
          0,
          0,
          0,
          0,
          0,
          0,
          0.058823529411764705,
          0,
          0,
          0,
          0,
          0,
          0,
          0.041666666666666664,
          0,
          0.2,
          0,
          0,
          0,
          0.058823529411764705,
          0,
          0,
          0,
          0,
          0,
          0,
          0,
          0,
          0,
          0,
          0,
          0,
          0,
          0,
          0,
          0,
          0,
          0,
          0,
          0,
          0,
          0,
          0,
          0,
          0,
          0,
          0,
          0,
          0,
          0,
          0,
          0,
          0,
          0,
          0,
          0.1,
          0,
          0,
          0,
          0,
          0,
          0,
          0,
          0,
          0,
          0.2857142857142857,
          0,
          0,
          0,
          0,
          0,
          0,
          0,
          0,
          0.058823529411764705,
          0,
          0,
          0,
          0,
          0,
          0
         ],
         "y": [
          2,
          1,
          1,
          2,
          2,
          2,
          2,
          1,
          2,
          2,
          2,
          1,
          2,
          1,
          2,
          1,
          2,
          1,
          2,
          1,
          1,
          2,
          1,
          2,
          1,
          2,
          1,
          2,
          2,
          2,
          1,
          2,
          2,
          2,
          1,
          1,
          1,
          2,
          1,
          2,
          2,
          1,
          1,
          2,
          2,
          2,
          2,
          2,
          2,
          2,
          1,
          1,
          1,
          2,
          2,
          1,
          2,
          2,
          2,
          1,
          1,
          1,
          2,
          2,
          2,
          1,
          1,
          1,
          0,
          2,
          1,
          1,
          1,
          2,
          2,
          2,
          2,
          2,
          1,
          2,
          2,
          2,
          2,
          2,
          2,
          2,
          2,
          2
         ],
         "z": [
          0.73,
          3.73,
          2.33,
          0.64,
          3.99,
          4.5,
          1.7,
          0.59,
          3.74,
          2.8,
          1.95,
          0.21,
          6.75,
          5.43,
          99.33,
          3.99,
          6.65,
          0.18,
          1.71,
          1,
          0.9,
          1.13,
          1.89,
          0.74,
          0.59,
          6.42,
          45,
          0.5,
          0.14,
          0.39,
          1.39,
          2.85,
          0.34,
          21.98,
          0.15,
          0.28,
          4.34,
          0.69,
          1.11,
          1.37,
          0.89,
          3.5,
          1.09,
          0.63,
          0.95,
          0.2,
          0.23,
          0.25,
          0.82,
          0.43,
          0.08,
          0.23,
          7.19,
          0.5,
          0.62,
          0.1,
          14.75,
          0.53,
          5.75,
          7.19,
          20.17,
          0.5,
          48.94,
          439.99,
          0,
          0.3,
          0,
          8.99,
          42.98,
          0.11,
          1.25,
          1.5,
          58,
          2.2,
          1.25,
          0.89,
          2.54,
          4.95,
          0.71,
          8.99,
          0.5,
          2.95,
          16.15,
          0.6,
          8.29,
          39.99,
          1.5,
          2.48
         ]
        }
       ],
       "layout": {
        "coloraxis": {
         "colorbar": {
          "title": {
           "text": "Jaccard Score"
          }
         },
         "colorscale": [
          [
           0,
           "#0d0887"
          ],
          [
           0.1111111111111111,
           "#46039f"
          ],
          [
           0.2222222222222222,
           "#7201a8"
          ],
          [
           0.3333333333333333,
           "#9c179e"
          ],
          [
           0.4444444444444444,
           "#bd3786"
          ],
          [
           0.5555555555555556,
           "#d8576b"
          ],
          [
           0.6666666666666666,
           "#ed7953"
          ],
          [
           0.7777777777777778,
           "#fb9f3a"
          ],
          [
           0.8888888888888888,
           "#fdca26"
          ],
          [
           1,
           "#f0f921"
          ]
         ]
        },
        "legend": {
         "tracegroupgap": 0
        },
        "scene": {
         "domain": {
          "x": [
           0,
           1
          ],
          "y": [
           0,
           1
          ]
         },
         "xaxis": {
          "title": {
           "text": "Jaccard"
          }
         },
         "yaxis": {
          "title": {
           "text": "CMC"
          }
         },
         "zaxis": {
          "title": {
           "text": "Menor Preço"
          }
         }
        },
        "template": {
         "data": {
          "bar": [
           {
            "error_x": {
             "color": "#2a3f5f"
            },
            "error_y": {
             "color": "#2a3f5f"
            },
            "marker": {
             "line": {
              "color": "#E5ECF6",
              "width": 0.5
             },
             "pattern": {
              "fillmode": "overlay",
              "size": 10,
              "solidity": 0.2
             }
            },
            "type": "bar"
           }
          ],
          "barpolar": [
           {
            "marker": {
             "line": {
              "color": "#E5ECF6",
              "width": 0.5
             },
             "pattern": {
              "fillmode": "overlay",
              "size": 10,
              "solidity": 0.2
             }
            },
            "type": "barpolar"
           }
          ],
          "carpet": [
           {
            "aaxis": {
             "endlinecolor": "#2a3f5f",
             "gridcolor": "white",
             "linecolor": "white",
             "minorgridcolor": "white",
             "startlinecolor": "#2a3f5f"
            },
            "baxis": {
             "endlinecolor": "#2a3f5f",
             "gridcolor": "white",
             "linecolor": "white",
             "minorgridcolor": "white",
             "startlinecolor": "#2a3f5f"
            },
            "type": "carpet"
           }
          ],
          "choropleth": [
           {
            "colorbar": {
             "outlinewidth": 0,
             "ticks": ""
            },
            "type": "choropleth"
           }
          ],
          "contour": [
           {
            "colorbar": {
             "outlinewidth": 0,
             "ticks": ""
            },
            "colorscale": [
             [
              0,
              "#0d0887"
             ],
             [
              0.1111111111111111,
              "#46039f"
             ],
             [
              0.2222222222222222,
              "#7201a8"
             ],
             [
              0.3333333333333333,
              "#9c179e"
             ],
             [
              0.4444444444444444,
              "#bd3786"
             ],
             [
              0.5555555555555556,
              "#d8576b"
             ],
             [
              0.6666666666666666,
              "#ed7953"
             ],
             [
              0.7777777777777778,
              "#fb9f3a"
             ],
             [
              0.8888888888888888,
              "#fdca26"
             ],
             [
              1,
              "#f0f921"
             ]
            ],
            "type": "contour"
           }
          ],
          "contourcarpet": [
           {
            "colorbar": {
             "outlinewidth": 0,
             "ticks": ""
            },
            "type": "contourcarpet"
           }
          ],
          "heatmap": [
           {
            "colorbar": {
             "outlinewidth": 0,
             "ticks": ""
            },
            "colorscale": [
             [
              0,
              "#0d0887"
             ],
             [
              0.1111111111111111,
              "#46039f"
             ],
             [
              0.2222222222222222,
              "#7201a8"
             ],
             [
              0.3333333333333333,
              "#9c179e"
             ],
             [
              0.4444444444444444,
              "#bd3786"
             ],
             [
              0.5555555555555556,
              "#d8576b"
             ],
             [
              0.6666666666666666,
              "#ed7953"
             ],
             [
              0.7777777777777778,
              "#fb9f3a"
             ],
             [
              0.8888888888888888,
              "#fdca26"
             ],
             [
              1,
              "#f0f921"
             ]
            ],
            "type": "heatmap"
           }
          ],
          "heatmapgl": [
           {
            "colorbar": {
             "outlinewidth": 0,
             "ticks": ""
            },
            "colorscale": [
             [
              0,
              "#0d0887"
             ],
             [
              0.1111111111111111,
              "#46039f"
             ],
             [
              0.2222222222222222,
              "#7201a8"
             ],
             [
              0.3333333333333333,
              "#9c179e"
             ],
             [
              0.4444444444444444,
              "#bd3786"
             ],
             [
              0.5555555555555556,
              "#d8576b"
             ],
             [
              0.6666666666666666,
              "#ed7953"
             ],
             [
              0.7777777777777778,
              "#fb9f3a"
             ],
             [
              0.8888888888888888,
              "#fdca26"
             ],
             [
              1,
              "#f0f921"
             ]
            ],
            "type": "heatmapgl"
           }
          ],
          "histogram": [
           {
            "marker": {
             "pattern": {
              "fillmode": "overlay",
              "size": 10,
              "solidity": 0.2
             }
            },
            "type": "histogram"
           }
          ],
          "histogram2d": [
           {
            "colorbar": {
             "outlinewidth": 0,
             "ticks": ""
            },
            "colorscale": [
             [
              0,
              "#0d0887"
             ],
             [
              0.1111111111111111,
              "#46039f"
             ],
             [
              0.2222222222222222,
              "#7201a8"
             ],
             [
              0.3333333333333333,
              "#9c179e"
             ],
             [
              0.4444444444444444,
              "#bd3786"
             ],
             [
              0.5555555555555556,
              "#d8576b"
             ],
             [
              0.6666666666666666,
              "#ed7953"
             ],
             [
              0.7777777777777778,
              "#fb9f3a"
             ],
             [
              0.8888888888888888,
              "#fdca26"
             ],
             [
              1,
              "#f0f921"
             ]
            ],
            "type": "histogram2d"
           }
          ],
          "histogram2dcontour": [
           {
            "colorbar": {
             "outlinewidth": 0,
             "ticks": ""
            },
            "colorscale": [
             [
              0,
              "#0d0887"
             ],
             [
              0.1111111111111111,
              "#46039f"
             ],
             [
              0.2222222222222222,
              "#7201a8"
             ],
             [
              0.3333333333333333,
              "#9c179e"
             ],
             [
              0.4444444444444444,
              "#bd3786"
             ],
             [
              0.5555555555555556,
              "#d8576b"
             ],
             [
              0.6666666666666666,
              "#ed7953"
             ],
             [
              0.7777777777777778,
              "#fb9f3a"
             ],
             [
              0.8888888888888888,
              "#fdca26"
             ],
             [
              1,
              "#f0f921"
             ]
            ],
            "type": "histogram2dcontour"
           }
          ],
          "mesh3d": [
           {
            "colorbar": {
             "outlinewidth": 0,
             "ticks": ""
            },
            "type": "mesh3d"
           }
          ],
          "parcoords": [
           {
            "line": {
             "colorbar": {
              "outlinewidth": 0,
              "ticks": ""
             }
            },
            "type": "parcoords"
           }
          ],
          "pie": [
           {
            "automargin": true,
            "type": "pie"
           }
          ],
          "scatter": [
           {
            "fillpattern": {
             "fillmode": "overlay",
             "size": 10,
             "solidity": 0.2
            },
            "type": "scatter"
           }
          ],
          "scatter3d": [
           {
            "line": {
             "colorbar": {
              "outlinewidth": 0,
              "ticks": ""
             }
            },
            "marker": {
             "colorbar": {
              "outlinewidth": 0,
              "ticks": ""
             }
            },
            "type": "scatter3d"
           }
          ],
          "scattercarpet": [
           {
            "marker": {
             "colorbar": {
              "outlinewidth": 0,
              "ticks": ""
             }
            },
            "type": "scattercarpet"
           }
          ],
          "scattergeo": [
           {
            "marker": {
             "colorbar": {
              "outlinewidth": 0,
              "ticks": ""
             }
            },
            "type": "scattergeo"
           }
          ],
          "scattergl": [
           {
            "marker": {
             "colorbar": {
              "outlinewidth": 0,
              "ticks": ""
             }
            },
            "type": "scattergl"
           }
          ],
          "scattermapbox": [
           {
            "marker": {
             "colorbar": {
              "outlinewidth": 0,
              "ticks": ""
             }
            },
            "type": "scattermapbox"
           }
          ],
          "scatterpolar": [
           {
            "marker": {
             "colorbar": {
              "outlinewidth": 0,
              "ticks": ""
             }
            },
            "type": "scatterpolar"
           }
          ],
          "scatterpolargl": [
           {
            "marker": {
             "colorbar": {
              "outlinewidth": 0,
              "ticks": ""
             }
            },
            "type": "scatterpolargl"
           }
          ],
          "scatterternary": [
           {
            "marker": {
             "colorbar": {
              "outlinewidth": 0,
              "ticks": ""
             }
            },
            "type": "scatterternary"
           }
          ],
          "surface": [
           {
            "colorbar": {
             "outlinewidth": 0,
             "ticks": ""
            },
            "colorscale": [
             [
              0,
              "#0d0887"
             ],
             [
              0.1111111111111111,
              "#46039f"
             ],
             [
              0.2222222222222222,
              "#7201a8"
             ],
             [
              0.3333333333333333,
              "#9c179e"
             ],
             [
              0.4444444444444444,
              "#bd3786"
             ],
             [
              0.5555555555555556,
              "#d8576b"
             ],
             [
              0.6666666666666666,
              "#ed7953"
             ],
             [
              0.7777777777777778,
              "#fb9f3a"
             ],
             [
              0.8888888888888888,
              "#fdca26"
             ],
             [
              1,
              "#f0f921"
             ]
            ],
            "type": "surface"
           }
          ],
          "table": [
           {
            "cells": {
             "fill": {
              "color": "#EBF0F8"
             },
             "line": {
              "color": "white"
             }
            },
            "header": {
             "fill": {
              "color": "#C8D4E3"
             },
             "line": {
              "color": "white"
             }
            },
            "type": "table"
           }
          ]
         },
         "layout": {
          "annotationdefaults": {
           "arrowcolor": "#2a3f5f",
           "arrowhead": 0,
           "arrowwidth": 1
          },
          "autotypenumbers": "strict",
          "coloraxis": {
           "colorbar": {
            "outlinewidth": 0,
            "ticks": ""
           }
          },
          "colorscale": {
           "diverging": [
            [
             0,
             "#8e0152"
            ],
            [
             0.1,
             "#c51b7d"
            ],
            [
             0.2,
             "#de77ae"
            ],
            [
             0.3,
             "#f1b6da"
            ],
            [
             0.4,
             "#fde0ef"
            ],
            [
             0.5,
             "#f7f7f7"
            ],
            [
             0.6,
             "#e6f5d0"
            ],
            [
             0.7,
             "#b8e186"
            ],
            [
             0.8,
             "#7fbc41"
            ],
            [
             0.9,
             "#4d9221"
            ],
            [
             1,
             "#276419"
            ]
           ],
           "sequential": [
            [
             0,
             "#0d0887"
            ],
            [
             0.1111111111111111,
             "#46039f"
            ],
            [
             0.2222222222222222,
             "#7201a8"
            ],
            [
             0.3333333333333333,
             "#9c179e"
            ],
            [
             0.4444444444444444,
             "#bd3786"
            ],
            [
             0.5555555555555556,
             "#d8576b"
            ],
            [
             0.6666666666666666,
             "#ed7953"
            ],
            [
             0.7777777777777778,
             "#fb9f3a"
            ],
            [
             0.8888888888888888,
             "#fdca26"
            ],
            [
             1,
             "#f0f921"
            ]
           ],
           "sequentialminus": [
            [
             0,
             "#0d0887"
            ],
            [
             0.1111111111111111,
             "#46039f"
            ],
            [
             0.2222222222222222,
             "#7201a8"
            ],
            [
             0.3333333333333333,
             "#9c179e"
            ],
            [
             0.4444444444444444,
             "#bd3786"
            ],
            [
             0.5555555555555556,
             "#d8576b"
            ],
            [
             0.6666666666666666,
             "#ed7953"
            ],
            [
             0.7777777777777778,
             "#fb9f3a"
            ],
            [
             0.8888888888888888,
             "#fdca26"
            ],
            [
             1,
             "#f0f921"
            ]
           ]
          },
          "colorway": [
           "#636efa",
           "#EF553B",
           "#00cc96",
           "#ab63fa",
           "#FFA15A",
           "#19d3f3",
           "#FF6692",
           "#B6E880",
           "#FF97FF",
           "#FECB52"
          ],
          "font": {
           "color": "#2a3f5f"
          },
          "geo": {
           "bgcolor": "white",
           "lakecolor": "white",
           "landcolor": "#E5ECF6",
           "showlakes": true,
           "showland": true,
           "subunitcolor": "white"
          },
          "hoverlabel": {
           "align": "left"
          },
          "hovermode": "closest",
          "mapbox": {
           "style": "light"
          },
          "paper_bgcolor": "white",
          "plot_bgcolor": "#E5ECF6",
          "polar": {
           "angularaxis": {
            "gridcolor": "white",
            "linecolor": "white",
            "ticks": ""
           },
           "bgcolor": "#E5ECF6",
           "radialaxis": {
            "gridcolor": "white",
            "linecolor": "white",
            "ticks": ""
           }
          },
          "scene": {
           "xaxis": {
            "backgroundcolor": "#E5ECF6",
            "gridcolor": "white",
            "gridwidth": 2,
            "linecolor": "white",
            "showbackground": true,
            "ticks": "",
            "zerolinecolor": "white"
           },
           "yaxis": {
            "backgroundcolor": "#E5ECF6",
            "gridcolor": "white",
            "gridwidth": 2,
            "linecolor": "white",
            "showbackground": true,
            "ticks": "",
            "zerolinecolor": "white"
           },
           "zaxis": {
            "backgroundcolor": "#E5ECF6",
            "gridcolor": "white",
            "gridwidth": 2,
            "linecolor": "white",
            "showbackground": true,
            "ticks": "",
            "zerolinecolor": "white"
           }
          },
          "shapedefaults": {
           "line": {
            "color": "#2a3f5f"
           }
          },
          "ternary": {
           "aaxis": {
            "gridcolor": "white",
            "linecolor": "white",
            "ticks": ""
           },
           "baxis": {
            "gridcolor": "white",
            "linecolor": "white",
            "ticks": ""
           },
           "bgcolor": "#E5ECF6",
           "caxis": {
            "gridcolor": "white",
            "linecolor": "white",
            "ticks": ""
           }
          },
          "title": {
           "x": 0.05
          },
          "xaxis": {
           "automargin": true,
           "gridcolor": "white",
           "linecolor": "white",
           "ticks": "",
           "title": {
            "standoff": 15
           },
           "zerolinecolor": "white",
           "zerolinewidth": 2
          },
          "yaxis": {
           "automargin": true,
           "gridcolor": "white",
           "linecolor": "white",
           "ticks": "",
           "title": {
            "standoff": 15
           },
           "zerolinecolor": "white",
           "zerolinewidth": 2
          }
         }
        },
        "title": {
         "text": "Cartas Semelhantes"
        }
       }
      }
     },
     "metadata": {},
     "output_type": "display_data"
    },
    {
     "name": "stdout",
     "output_type": "stream",
     "text": [
      "Média de Preço Mínimo para a carta:  (Mean(statistic=11.44090909090909, minmax=(2.618579684466626, 20.26323849735155)), Variance(statistic=2415.154754438503, minmax=(1859.6396578045335, 3107.7210757893617)), Std_dev(statistic=48.99989786097558, minmax=(43.123539486045594, 55.746937815357725)))\n",
      "Média de Preço Médio para a carta:  (Mean(statistic=16.36931818181818, minmax=(7.121153045313623, 25.617483318322734)), Variance(statistic=2653.9306936363632, minmax=(2043.4942141412762, 3414.9680616286228)), Std_dev(statistic=51.365022344239534, minmax=(45.20502421347959, 58.437728066965626)))\n",
      "Média de Preço Máximo para a carta:  (Mean(statistic=29.244545454545456, minmax=(17.76871085175679, 40.72038005733412)), Variance(statistic=4086.4574939037434, minmax=(3146.5223508473237, 5258.284197227168)), Std_dev(statistic=63.73767034763703, minmax=(56.09387088485982, 72.51402758933727)))\n",
      "Mea Absolute Error (Random Forest): 0.04121255848925527, Mean Absolute Error (KNN): 0.028526405903164465, Menor Preço\n",
      "[[41.8719107]] [[24.06264574]]\n"
     ]
    },
    {
     "name": "stderr",
     "output_type": "stream",
     "text": [
      "c:\\Users\\drodm\\AppData\\Local\\Programs\\Python\\Python312\\Lib\\site-packages\\sklearn\\base.py:1473: DataConversionWarning:\n",
      "\n",
      "A column-vector y was passed when a 1d array was expected. Please change the shape of y to (n_samples,), for example using ravel().\n",
      "\n",
      "c:\\Users\\drodm\\AppData\\Local\\Programs\\Python\\Python312\\Lib\\site-packages\\sklearn\\base.py:1473: DataConversionWarning:\n",
      "\n",
      "A column-vector y was passed when a 1d array was expected. Please change the shape of y to (n_samples,), for example using ravel().\n",
      "\n"
     ]
    },
    {
     "name": "stdout",
     "output_type": "stream",
     "text": [
      "Mea Absolute Error (Random Forest): 0.049625449209128765, Mean Absolute Error (KNN): 0.04758052277923311, Preço Médio\n",
      "[[64.53520195]] [[37.25488883]]\n",
      "Mea Absolute Error (Random Forest): 0.05781803946934219, Mean Absolute Error (KNN): 0.07760763541628081, Preço Máximo\n",
      "[[128.31191174]] [[78.39]]\n"
     ]
    },
    {
     "name": "stderr",
     "output_type": "stream",
     "text": [
      "c:\\Users\\drodm\\AppData\\Local\\Programs\\Python\\Python312\\Lib\\site-packages\\sklearn\\base.py:1473: DataConversionWarning:\n",
      "\n",
      "A column-vector y was passed when a 1d array was expected. Please change the shape of y to (n_samples,), for example using ravel().\n",
      "\n"
     ]
    },
    {
     "name": "stdout",
     "output_type": "stream",
     "text": [
      "Card Type: Instant, Mana Cost: 1, Text: Draw a card, Power: 0, Toughness: 0, Rarity: 2, Loyalty: 0\n",
      "Index(['Name', 'Total Mana Cost', 'Card Type', 'Oracle Text', 'Price1',\n",
      "       'Price2', 'Price3', 'rarity', 'Rarity Category'],\n",
      "      dtype='object')\n"
     ]
    },
    {
     "name": "stderr",
     "output_type": "stream",
     "text": [
      "C:\\Users\\drodm\\AppData\\Local\\Temp\\ipykernel_22868\\1882482725.py:140: FutureWarning:\n",
      "\n",
      "Setting an item of incompatible dtype is deprecated and will raise an error in a future version of pandas. Value '[0.         0.08333333 0.0625     ... 0.11111111 0.05263158 0.        ]' has dtype incompatible with int64, please explicitly cast to a compatible dtype first.\n",
      "\n"
     ]
    },
    {
     "name": "stdout",
     "output_type": "stream",
     "text": [
      "Number of clusters: 47\n",
      "Silhouette Score: 0.7415287151827004\n",
      "Adjusted Rand Index: 0.08121826622263219\n",
      "Carta mais semelhante:  Brand Texto da carta:  Gain control of all permanents you own. (This effect lasts indefinitely.)\n",
      "Cycling {2} ({2}, Discard this card: Draw a card.)\n"
     ]
    },
    {
     "name": "stderr",
     "output_type": "stream",
     "text": [
      "c:\\Users\\drodm\\AppData\\Local\\Programs\\Python\\Python312\\Lib\\site-packages\\sklearn\\base.py:493: UserWarning:\n",
      "\n",
      "X does not have valid feature names, but KMeans was fitted with feature names\n",
      "\n",
      "c:\\Users\\drodm\\AppData\\Local\\Programs\\Python\\Python312\\Lib\\site-packages\\sklearn\\base.py:493: UserWarning:\n",
      "\n",
      "X does not have valid feature names, but MinMaxScaler was fitted with feature names\n",
      "\n",
      "c:\\Users\\drodm\\AppData\\Local\\Programs\\Python\\Python312\\Lib\\site-packages\\umap\\umap_.py:1945: UserWarning:\n",
      "\n",
      "n_jobs value 1 overridden to 1 by setting random_state. Use no seed for parallelism.\n",
      "\n"
     ]
    },
    {
     "data": {
      "application/vnd.plotly.v1+json": {
       "config": {
        "plotlyServerURL": "https://plot.ly"
       },
       "data": [
        {
         "customdata": [
          [
           "Eldritch Immunity"
          ],
          [
           "Great Train Heist"
          ],
          [
           "Galadriel's Dismissal"
          ],
          [
           "Legolas's Quick Reflexes"
          ],
          [
           "Epiphany at the Drownyard"
          ],
          [
           "Mystical Tutor"
          ],
          [
           "Silkguard"
          ],
          [
           "Angel's Grace"
          ],
          [
           "Erebos's Intervention"
          ],
          [
           "Isolate"
          ],
          [
           "Infernal Reckoning"
          ],
          [
           "Pact of Negation"
          ],
          [
           "Flusterstorm"
          ],
          [
           "Fall of the Titans"
          ],
          [
           "Icy Blast"
          ],
          [
           "Berserk"
          ],
          [
           "Savage Summoning"
          ],
          [
           "Slaughter Pact"
          ],
          [
           "Divine Deflection"
          ],
          [
           "Summoner's Pact"
          ],
          [
           "Pact of the Titan"
          ],
          [
           "Nix"
          ],
          [
           "Intervention Pact"
          ],
          [
           "Moonlace"
          ],
          [
           "Pure Intentions"
          ],
          [
           "One with Nothing"
          ],
          [
           "Retract"
          ],
          [
           "Stifle"
          ],
          [
           "Artificial Evolution"
          ],
          [
           "Divert"
          ],
          [
           "Orim's Chant"
          ],
          [
           "Brand"
          ],
          [
           "Fighting Chance"
          ],
          [
           "Firestorm"
          ],
          [
           "Vampiric Tutor"
          ]
         ],
         "hovertemplate": "x=%{x}<br>y=%{y}<br>z=%{z}<br>Name=%{customdata[0]}<br>Jaccard Score=%{marker.color}<extra></extra>",
         "legendgroup": "",
         "marker": {
          "color": [
           0,
           0,
           0,
           0,
           0,
           0.1,
           0,
           0,
           0,
           0,
           0,
           0,
           0,
           0,
           0,
           0,
           0,
           0,
           0,
           0.05555555555555555,
           0,
           0,
           0,
           0,
           0,
           0,
           0,
           0,
           0,
           0,
           0,
           0.18181818181818182,
           0,
           0,
           0.1
          ],
          "coloraxis": "coloraxis",
          "size": 5,
          "symbol": "circle"
         },
         "mode": "markers",
         "name": "",
         "scene": "scene",
         "showlegend": false,
         "type": "scatter3d",
         "x": [
          0,
          0,
          0,
          0,
          0,
          0.1,
          0,
          0,
          0,
          0,
          0,
          0,
          0,
          0,
          0,
          0,
          0,
          0,
          0,
          0.05555555555555555,
          0,
          0,
          0,
          0,
          0,
          0,
          0,
          0,
          0,
          0,
          0,
          0.18181818181818182,
          0,
          0,
          0.1
         ],
         "y": [
          1,
          1,
          1,
          1,
          1,
          1,
          1,
          1,
          1,
          1,
          1,
          0,
          1,
          1,
          1,
          1,
          1,
          0,
          1,
          0,
          0,
          1,
          0,
          1,
          1,
          1,
          1,
          1,
          1,
          1,
          1,
          1,
          1,
          1,
          1
         ],
         "z": [
          29.5,
          8.5,
          129.9,
          197.91,
          0.23,
          53,
          12.23,
          13.49,
          0.38,
          0.18,
          0.2,
          71.66,
          34.56,
          0.24,
          0.3,
          99.9,
          1.18,
          5.4,
          0.17,
          0,
          0.43,
          3.5,
          4.26,
          0.68,
          0.5,
          0.86,
          9.56,
          0,
          4.5,
          2.93,
          16.92,
          7,
          2.29,
          34.99,
          239.95
         ]
        }
       ],
       "layout": {
        "coloraxis": {
         "colorbar": {
          "title": {
           "text": "Jaccard Score"
          }
         },
         "colorscale": [
          [
           0,
           "#0d0887"
          ],
          [
           0.1111111111111111,
           "#46039f"
          ],
          [
           0.2222222222222222,
           "#7201a8"
          ],
          [
           0.3333333333333333,
           "#9c179e"
          ],
          [
           0.4444444444444444,
           "#bd3786"
          ],
          [
           0.5555555555555556,
           "#d8576b"
          ],
          [
           0.6666666666666666,
           "#ed7953"
          ],
          [
           0.7777777777777778,
           "#fb9f3a"
          ],
          [
           0.8888888888888888,
           "#fdca26"
          ],
          [
           1,
           "#f0f921"
          ]
         ]
        },
        "legend": {
         "tracegroupgap": 0
        },
        "scene": {
         "domain": {
          "x": [
           0,
           1
          ],
          "y": [
           0,
           1
          ]
         },
         "xaxis": {
          "title": {
           "text": "Jaccard"
          }
         },
         "yaxis": {
          "title": {
           "text": "CMC"
          }
         },
         "zaxis": {
          "title": {
           "text": "Menor Preço"
          }
         }
        },
        "template": {
         "data": {
          "bar": [
           {
            "error_x": {
             "color": "#2a3f5f"
            },
            "error_y": {
             "color": "#2a3f5f"
            },
            "marker": {
             "line": {
              "color": "#E5ECF6",
              "width": 0.5
             },
             "pattern": {
              "fillmode": "overlay",
              "size": 10,
              "solidity": 0.2
             }
            },
            "type": "bar"
           }
          ],
          "barpolar": [
           {
            "marker": {
             "line": {
              "color": "#E5ECF6",
              "width": 0.5
             },
             "pattern": {
              "fillmode": "overlay",
              "size": 10,
              "solidity": 0.2
             }
            },
            "type": "barpolar"
           }
          ],
          "carpet": [
           {
            "aaxis": {
             "endlinecolor": "#2a3f5f",
             "gridcolor": "white",
             "linecolor": "white",
             "minorgridcolor": "white",
             "startlinecolor": "#2a3f5f"
            },
            "baxis": {
             "endlinecolor": "#2a3f5f",
             "gridcolor": "white",
             "linecolor": "white",
             "minorgridcolor": "white",
             "startlinecolor": "#2a3f5f"
            },
            "type": "carpet"
           }
          ],
          "choropleth": [
           {
            "colorbar": {
             "outlinewidth": 0,
             "ticks": ""
            },
            "type": "choropleth"
           }
          ],
          "contour": [
           {
            "colorbar": {
             "outlinewidth": 0,
             "ticks": ""
            },
            "colorscale": [
             [
              0,
              "#0d0887"
             ],
             [
              0.1111111111111111,
              "#46039f"
             ],
             [
              0.2222222222222222,
              "#7201a8"
             ],
             [
              0.3333333333333333,
              "#9c179e"
             ],
             [
              0.4444444444444444,
              "#bd3786"
             ],
             [
              0.5555555555555556,
              "#d8576b"
             ],
             [
              0.6666666666666666,
              "#ed7953"
             ],
             [
              0.7777777777777778,
              "#fb9f3a"
             ],
             [
              0.8888888888888888,
              "#fdca26"
             ],
             [
              1,
              "#f0f921"
             ]
            ],
            "type": "contour"
           }
          ],
          "contourcarpet": [
           {
            "colorbar": {
             "outlinewidth": 0,
             "ticks": ""
            },
            "type": "contourcarpet"
           }
          ],
          "heatmap": [
           {
            "colorbar": {
             "outlinewidth": 0,
             "ticks": ""
            },
            "colorscale": [
             [
              0,
              "#0d0887"
             ],
             [
              0.1111111111111111,
              "#46039f"
             ],
             [
              0.2222222222222222,
              "#7201a8"
             ],
             [
              0.3333333333333333,
              "#9c179e"
             ],
             [
              0.4444444444444444,
              "#bd3786"
             ],
             [
              0.5555555555555556,
              "#d8576b"
             ],
             [
              0.6666666666666666,
              "#ed7953"
             ],
             [
              0.7777777777777778,
              "#fb9f3a"
             ],
             [
              0.8888888888888888,
              "#fdca26"
             ],
             [
              1,
              "#f0f921"
             ]
            ],
            "type": "heatmap"
           }
          ],
          "heatmapgl": [
           {
            "colorbar": {
             "outlinewidth": 0,
             "ticks": ""
            },
            "colorscale": [
             [
              0,
              "#0d0887"
             ],
             [
              0.1111111111111111,
              "#46039f"
             ],
             [
              0.2222222222222222,
              "#7201a8"
             ],
             [
              0.3333333333333333,
              "#9c179e"
             ],
             [
              0.4444444444444444,
              "#bd3786"
             ],
             [
              0.5555555555555556,
              "#d8576b"
             ],
             [
              0.6666666666666666,
              "#ed7953"
             ],
             [
              0.7777777777777778,
              "#fb9f3a"
             ],
             [
              0.8888888888888888,
              "#fdca26"
             ],
             [
              1,
              "#f0f921"
             ]
            ],
            "type": "heatmapgl"
           }
          ],
          "histogram": [
           {
            "marker": {
             "pattern": {
              "fillmode": "overlay",
              "size": 10,
              "solidity": 0.2
             }
            },
            "type": "histogram"
           }
          ],
          "histogram2d": [
           {
            "colorbar": {
             "outlinewidth": 0,
             "ticks": ""
            },
            "colorscale": [
             [
              0,
              "#0d0887"
             ],
             [
              0.1111111111111111,
              "#46039f"
             ],
             [
              0.2222222222222222,
              "#7201a8"
             ],
             [
              0.3333333333333333,
              "#9c179e"
             ],
             [
              0.4444444444444444,
              "#bd3786"
             ],
             [
              0.5555555555555556,
              "#d8576b"
             ],
             [
              0.6666666666666666,
              "#ed7953"
             ],
             [
              0.7777777777777778,
              "#fb9f3a"
             ],
             [
              0.8888888888888888,
              "#fdca26"
             ],
             [
              1,
              "#f0f921"
             ]
            ],
            "type": "histogram2d"
           }
          ],
          "histogram2dcontour": [
           {
            "colorbar": {
             "outlinewidth": 0,
             "ticks": ""
            },
            "colorscale": [
             [
              0,
              "#0d0887"
             ],
             [
              0.1111111111111111,
              "#46039f"
             ],
             [
              0.2222222222222222,
              "#7201a8"
             ],
             [
              0.3333333333333333,
              "#9c179e"
             ],
             [
              0.4444444444444444,
              "#bd3786"
             ],
             [
              0.5555555555555556,
              "#d8576b"
             ],
             [
              0.6666666666666666,
              "#ed7953"
             ],
             [
              0.7777777777777778,
              "#fb9f3a"
             ],
             [
              0.8888888888888888,
              "#fdca26"
             ],
             [
              1,
              "#f0f921"
             ]
            ],
            "type": "histogram2dcontour"
           }
          ],
          "mesh3d": [
           {
            "colorbar": {
             "outlinewidth": 0,
             "ticks": ""
            },
            "type": "mesh3d"
           }
          ],
          "parcoords": [
           {
            "line": {
             "colorbar": {
              "outlinewidth": 0,
              "ticks": ""
             }
            },
            "type": "parcoords"
           }
          ],
          "pie": [
           {
            "automargin": true,
            "type": "pie"
           }
          ],
          "scatter": [
           {
            "fillpattern": {
             "fillmode": "overlay",
             "size": 10,
             "solidity": 0.2
            },
            "type": "scatter"
           }
          ],
          "scatter3d": [
           {
            "line": {
             "colorbar": {
              "outlinewidth": 0,
              "ticks": ""
             }
            },
            "marker": {
             "colorbar": {
              "outlinewidth": 0,
              "ticks": ""
             }
            },
            "type": "scatter3d"
           }
          ],
          "scattercarpet": [
           {
            "marker": {
             "colorbar": {
              "outlinewidth": 0,
              "ticks": ""
             }
            },
            "type": "scattercarpet"
           }
          ],
          "scattergeo": [
           {
            "marker": {
             "colorbar": {
              "outlinewidth": 0,
              "ticks": ""
             }
            },
            "type": "scattergeo"
           }
          ],
          "scattergl": [
           {
            "marker": {
             "colorbar": {
              "outlinewidth": 0,
              "ticks": ""
             }
            },
            "type": "scattergl"
           }
          ],
          "scattermapbox": [
           {
            "marker": {
             "colorbar": {
              "outlinewidth": 0,
              "ticks": ""
             }
            },
            "type": "scattermapbox"
           }
          ],
          "scatterpolar": [
           {
            "marker": {
             "colorbar": {
              "outlinewidth": 0,
              "ticks": ""
             }
            },
            "type": "scatterpolar"
           }
          ],
          "scatterpolargl": [
           {
            "marker": {
             "colorbar": {
              "outlinewidth": 0,
              "ticks": ""
             }
            },
            "type": "scatterpolargl"
           }
          ],
          "scatterternary": [
           {
            "marker": {
             "colorbar": {
              "outlinewidth": 0,
              "ticks": ""
             }
            },
            "type": "scatterternary"
           }
          ],
          "surface": [
           {
            "colorbar": {
             "outlinewidth": 0,
             "ticks": ""
            },
            "colorscale": [
             [
              0,
              "#0d0887"
             ],
             [
              0.1111111111111111,
              "#46039f"
             ],
             [
              0.2222222222222222,
              "#7201a8"
             ],
             [
              0.3333333333333333,
              "#9c179e"
             ],
             [
              0.4444444444444444,
              "#bd3786"
             ],
             [
              0.5555555555555556,
              "#d8576b"
             ],
             [
              0.6666666666666666,
              "#ed7953"
             ],
             [
              0.7777777777777778,
              "#fb9f3a"
             ],
             [
              0.8888888888888888,
              "#fdca26"
             ],
             [
              1,
              "#f0f921"
             ]
            ],
            "type": "surface"
           }
          ],
          "table": [
           {
            "cells": {
             "fill": {
              "color": "#EBF0F8"
             },
             "line": {
              "color": "white"
             }
            },
            "header": {
             "fill": {
              "color": "#C8D4E3"
             },
             "line": {
              "color": "white"
             }
            },
            "type": "table"
           }
          ]
         },
         "layout": {
          "annotationdefaults": {
           "arrowcolor": "#2a3f5f",
           "arrowhead": 0,
           "arrowwidth": 1
          },
          "autotypenumbers": "strict",
          "coloraxis": {
           "colorbar": {
            "outlinewidth": 0,
            "ticks": ""
           }
          },
          "colorscale": {
           "diverging": [
            [
             0,
             "#8e0152"
            ],
            [
             0.1,
             "#c51b7d"
            ],
            [
             0.2,
             "#de77ae"
            ],
            [
             0.3,
             "#f1b6da"
            ],
            [
             0.4,
             "#fde0ef"
            ],
            [
             0.5,
             "#f7f7f7"
            ],
            [
             0.6,
             "#e6f5d0"
            ],
            [
             0.7,
             "#b8e186"
            ],
            [
             0.8,
             "#7fbc41"
            ],
            [
             0.9,
             "#4d9221"
            ],
            [
             1,
             "#276419"
            ]
           ],
           "sequential": [
            [
             0,
             "#0d0887"
            ],
            [
             0.1111111111111111,
             "#46039f"
            ],
            [
             0.2222222222222222,
             "#7201a8"
            ],
            [
             0.3333333333333333,
             "#9c179e"
            ],
            [
             0.4444444444444444,
             "#bd3786"
            ],
            [
             0.5555555555555556,
             "#d8576b"
            ],
            [
             0.6666666666666666,
             "#ed7953"
            ],
            [
             0.7777777777777778,
             "#fb9f3a"
            ],
            [
             0.8888888888888888,
             "#fdca26"
            ],
            [
             1,
             "#f0f921"
            ]
           ],
           "sequentialminus": [
            [
             0,
             "#0d0887"
            ],
            [
             0.1111111111111111,
             "#46039f"
            ],
            [
             0.2222222222222222,
             "#7201a8"
            ],
            [
             0.3333333333333333,
             "#9c179e"
            ],
            [
             0.4444444444444444,
             "#bd3786"
            ],
            [
             0.5555555555555556,
             "#d8576b"
            ],
            [
             0.6666666666666666,
             "#ed7953"
            ],
            [
             0.7777777777777778,
             "#fb9f3a"
            ],
            [
             0.8888888888888888,
             "#fdca26"
            ],
            [
             1,
             "#f0f921"
            ]
           ]
          },
          "colorway": [
           "#636efa",
           "#EF553B",
           "#00cc96",
           "#ab63fa",
           "#FFA15A",
           "#19d3f3",
           "#FF6692",
           "#B6E880",
           "#FF97FF",
           "#FECB52"
          ],
          "font": {
           "color": "#2a3f5f"
          },
          "geo": {
           "bgcolor": "white",
           "lakecolor": "white",
           "landcolor": "#E5ECF6",
           "showlakes": true,
           "showland": true,
           "subunitcolor": "white"
          },
          "hoverlabel": {
           "align": "left"
          },
          "hovermode": "closest",
          "mapbox": {
           "style": "light"
          },
          "paper_bgcolor": "white",
          "plot_bgcolor": "#E5ECF6",
          "polar": {
           "angularaxis": {
            "gridcolor": "white",
            "linecolor": "white",
            "ticks": ""
           },
           "bgcolor": "#E5ECF6",
           "radialaxis": {
            "gridcolor": "white",
            "linecolor": "white",
            "ticks": ""
           }
          },
          "scene": {
           "xaxis": {
            "backgroundcolor": "#E5ECF6",
            "gridcolor": "white",
            "gridwidth": 2,
            "linecolor": "white",
            "showbackground": true,
            "ticks": "",
            "zerolinecolor": "white"
           },
           "yaxis": {
            "backgroundcolor": "#E5ECF6",
            "gridcolor": "white",
            "gridwidth": 2,
            "linecolor": "white",
            "showbackground": true,
            "ticks": "",
            "zerolinecolor": "white"
           },
           "zaxis": {
            "backgroundcolor": "#E5ECF6",
            "gridcolor": "white",
            "gridwidth": 2,
            "linecolor": "white",
            "showbackground": true,
            "ticks": "",
            "zerolinecolor": "white"
           }
          },
          "shapedefaults": {
           "line": {
            "color": "#2a3f5f"
           }
          },
          "ternary": {
           "aaxis": {
            "gridcolor": "white",
            "linecolor": "white",
            "ticks": ""
           },
           "baxis": {
            "gridcolor": "white",
            "linecolor": "white",
            "ticks": ""
           },
           "bgcolor": "#E5ECF6",
           "caxis": {
            "gridcolor": "white",
            "linecolor": "white",
            "ticks": ""
           }
          },
          "title": {
           "x": 0.05
          },
          "xaxis": {
           "automargin": true,
           "gridcolor": "white",
           "linecolor": "white",
           "ticks": "",
           "title": {
            "standoff": 15
           },
           "zerolinecolor": "white",
           "zerolinewidth": 2
          },
          "yaxis": {
           "automargin": true,
           "gridcolor": "white",
           "linecolor": "white",
           "ticks": "",
           "title": {
            "standoff": 15
           },
           "zerolinecolor": "white",
           "zerolinewidth": 2
          }
         }
        },
        "title": {
         "text": "Cartas Semelhantes"
        }
       }
      }
     },
     "metadata": {},
     "output_type": "display_data"
    },
    {
     "name": "stdout",
     "output_type": "stream",
     "text": [
      "Média de Preço Mínimo para a carta:  (Mean(statistic=28.208571428571428, minmax=(11.697556226731027, 44.719586630411825)), Variance(statistic=3372.148825892857, minmax=(2201.2211439263297, 5037.413385956515)), Std_dev(statistic=57.618373260198695, minmax=(46.917173230346364, 70.97473766035712)))\n",
      "Média de Preço Médio para a carta:  (Mean(statistic=36.212857142857146, minmax=(18.324465763186772, 54.10124852252751)), Variance(statistic=3958.236647321428, minmax=(2583.798832912136, 5912.928314105829)), Std_dev(statistic=62.42499319021165, minmax=(50.83108136673993, 76.89556758426215)))\n",
      "Média de Preço Máximo para a carta:  (Mean(statistic=51.78942857142857, minmax=(30.616144059580556, 72.96271308327658)), Variance(statistic=5545.435337142857, minmax=(3619.866781283909, 8283.931593939466)), Std_dev(statistic=73.88826157776529, minmax=(60.16532873078904, 91.01610623367418)))\n",
      "Mea Absolute Error (Random Forest): 0.09872909861354913, Mean Absolute Error (KNN): 0.10143779954157117, Menor Preço\n",
      "[[75.43889962]] [[84.36070315]]\n",
      "Mea Absolute Error (Random Forest): 0.09942222715989846, Mean Absolute Error (KNN): 0.09387574533564148, Preço Médio\n",
      "[[82.95749635]] [[93.09159146]]\n"
     ]
    },
    {
     "name": "stderr",
     "output_type": "stream",
     "text": [
      "c:\\Users\\drodm\\AppData\\Local\\Programs\\Python\\Python312\\Lib\\site-packages\\sklearn\\base.py:1473: DataConversionWarning:\n",
      "\n",
      "A column-vector y was passed when a 1d array was expected. Please change the shape of y to (n_samples,), for example using ravel().\n",
      "\n",
      "c:\\Users\\drodm\\AppData\\Local\\Programs\\Python\\Python312\\Lib\\site-packages\\sklearn\\base.py:1473: DataConversionWarning:\n",
      "\n",
      "A column-vector y was passed when a 1d array was expected. Please change the shape of y to (n_samples,), for example using ravel().\n",
      "\n",
      "c:\\Users\\drodm\\AppData\\Local\\Programs\\Python\\Python312\\Lib\\site-packages\\sklearn\\base.py:1473: DataConversionWarning:\n",
      "\n",
      "A column-vector y was passed when a 1d array was expected. Please change the shape of y to (n_samples,), for example using ravel().\n",
      "\n"
     ]
    },
    {
     "name": "stdout",
     "output_type": "stream",
     "text": [
      "Mea Absolute Error (Random Forest): 0.08992662956373995, Mean Absolute Error (KNN): 0.07032073081282922, Preço Máximo\n",
      "[[89.03954]] [[99.282]]\n",
      "Card Type: Artifact, Mana Cost: 1, Text: Draw a card, Power: 0, Toughness: 0, Rarity: 0, Loyalty: 0\n",
      "Index(['Name', 'Total Mana Cost', 'Card Type', 'Oracle Text', 'Price1',\n",
      "       'Price2', 'Price3', 'rarity', 'Rarity Category'],\n",
      "      dtype='object')\n"
     ]
    },
    {
     "name": "stderr",
     "output_type": "stream",
     "text": [
      "C:\\Users\\drodm\\AppData\\Local\\Temp\\ipykernel_22868\\1882482725.py:140: FutureWarning:\n",
      "\n",
      "Setting an item of incompatible dtype is deprecated and will raise an error in a future version of pandas. Value '[0.2        0.07692308 0.         ... 0.         0.         0.        ]' has dtype incompatible with int64, please explicitly cast to a compatible dtype first.\n",
      "\n"
     ]
    },
    {
     "name": "stdout",
     "output_type": "stream",
     "text": [
      "Number of clusters: 50\n",
      "Silhouette Score: 0.7579273121083682\n",
      "Adjusted Rand Index: 0.07114829908819592\n",
      "Carta mais semelhante:  Nihil Spellbomb Texto da carta:  {T}, Sacrifice Nihil Spellbomb: Exile target player's graveyard.\n",
      "When Nihil Spellbomb is put into a graveyard from the battlefield, you may pay {B}. If you do, draw a card.\n"
     ]
    },
    {
     "name": "stderr",
     "output_type": "stream",
     "text": [
      "c:\\Users\\drodm\\AppData\\Local\\Programs\\Python\\Python312\\Lib\\site-packages\\sklearn\\base.py:493: UserWarning:\n",
      "\n",
      "X does not have valid feature names, but KMeans was fitted with feature names\n",
      "\n",
      "c:\\Users\\drodm\\AppData\\Local\\Programs\\Python\\Python312\\Lib\\site-packages\\sklearn\\base.py:493: UserWarning:\n",
      "\n",
      "X does not have valid feature names, but MinMaxScaler was fitted with feature names\n",
      "\n",
      "c:\\Users\\drodm\\AppData\\Local\\Programs\\Python\\Python312\\Lib\\site-packages\\umap\\umap_.py:1945: UserWarning:\n",
      "\n",
      "n_jobs value 1 overridden to 1 by setting random_state. Use no seed for parallelism.\n",
      "\n"
     ]
    },
    {
     "data": {
      "application/vnd.plotly.v1+json": {
       "config": {
        "plotlyServerURL": "https://plot.ly"
       },
       "data": [
        {
         "customdata": [
          [
           "Bear Trap"
          ],
          [
           "Expedition Map"
          ],
          [
           "Hunter's Blowgun"
          ],
          [
           "Deconstruction Hammer"
          ],
          [
           "Campfire"
          ],
          [
           "Mirran Banesplitter"
          ],
          [
           "Kor Halberd"
          ],
          [
           "Beamtown Beatstick"
          ],
          [
           "Explosive Apparatus"
          ],
          [
           "Blazing Torch"
          ],
          [
           "Nihil Spellbomb"
          ],
          [
           "Goblin Firebomb"
          ],
          [
           "Executioner's Capsule"
          ],
          [
           "Jackhammer"
          ],
          [
           "Hedgewitch's Mask"
          ],
          [
           "Greataxe"
          ],
          [
           "Leather Armor"
          ],
          [
           "Boots of Speed"
          ],
          [
           "Dueling Rapier"
          ],
          [
           "Dispeller's Capsule"
          ],
          [
           "Inventor's Goggles"
          ],
          [
           "Cliffhaven Kitesail"
          ],
          [
           "Flayer Husk"
          ],
          [
           "Bronze Sword"
          ],
          [
           "Navigator's Compass"
          ],
          [
           "Bloodtallow Candle"
          ],
          [
           "Prying Blade"
          ],
          [
           "Honed Khopesh"
          ],
          [
           "Implement of Ferocity"
          ],
          [
           "Cathar's Shield"
          ],
          [
           "Bone Saw"
          ],
          [
           "Hedron Blade"
          ],
          [
           "Copper Carapace"
          ],
          [
           "Lotus Petal"
          ],
          [
           "Accorder's Shield"
          ],
          [
           "Bonesplitter"
          ],
          [
           "Runed Stalactite"
          ],
          [
           "Bladed Bracers"
          ],
          [
           "Gremlin Mine"
          ],
          [
           "Shriekhorn"
          ],
          [
           "Glasses of Urza"
          ],
          [
           "Golden Urn"
          ],
          [
           "Adventuring Gear"
          ],
          [
           "Mana Cylix"
          ],
          [
           "Barbed Sextant"
          ],
          [
           "Herbal Poultice"
          ],
          [
           "Urza's Chalice"
          ],
          [
           "Leonin Scimitar"
          ],
          [
           "Lifespark Spellbomb"
          ]
         ],
         "hovertemplate": "x=%{x}<br>y=%{y}<br>z=%{z}<br>Name=%{customdata[0]}<br>Jaccard Score=%{marker.color}<extra></extra>",
         "legendgroup": "",
         "marker": {
          "color": [
           0,
           0.07692307692307693,
           0,
           0,
           0,
           0,
           0,
           0,
           0,
           0,
           0.14285714285714285,
           0,
           0,
           0,
           0,
           0,
           0,
           0,
           0,
           0,
           0,
           0,
           0,
           0,
           0,
           0,
           0,
           0,
           0.14285714285714285,
           0,
           0,
           0,
           0,
           0,
           0,
           0,
           0,
           0,
           0,
           0,
           0,
           0,
           0,
           0,
           0.14285714285714285,
           0,
           0,
           0,
           0.14285714285714285
          ],
          "coloraxis": "coloraxis",
          "size": 5,
          "symbol": "circle"
         },
         "mode": "markers",
         "name": "",
         "scene": "scene",
         "showlegend": false,
         "type": "scatter3d",
         "x": [
          0,
          0.07692307692307693,
          0,
          0,
          0,
          0,
          0,
          0,
          0,
          0,
          0.14285714285714285,
          0,
          0,
          0,
          0,
          0,
          0,
          0,
          0,
          0,
          0,
          0,
          0,
          0,
          0,
          0,
          0,
          0,
          0.14285714285714285,
          0,
          0,
          0,
          0,
          0,
          0,
          0,
          0,
          0,
          0,
          0,
          0,
          0,
          0,
          0,
          0.14285714285714285,
          0,
          0,
          0,
          0.14285714285714285
         ],
         "y": [
          1,
          1,
          1,
          1,
          1,
          1,
          1,
          1,
          1,
          1,
          1,
          1,
          1,
          1,
          1,
          1,
          1,
          1,
          1,
          1,
          1,
          1,
          1,
          1,
          1,
          1,
          1,
          1,
          1,
          0,
          0,
          1,
          1,
          0,
          0,
          1,
          1,
          1,
          1,
          1,
          1,
          1,
          1,
          1,
          1,
          0,
          1,
          1,
          1
         ],
         "z": [
          0.1,
          9.99,
          0.06,
          0.05,
          6.94,
          0.1,
          0.07,
          0.14,
          0.05,
          0.06,
          7,
          0.05,
          0.24,
          0.04,
          0.04,
          0.05,
          0.18,
          0.07,
          0.05,
          0.09,
          0.04,
          0.1,
          0.09,
          0.05,
          0.15,
          0.04,
          0.1,
          0.04,
          0.1,
          0.09,
          0.08,
          0.05,
          0.09,
          59.9,
          0.13,
          1.19,
          0.15,
          0.09,
          0.06,
          0.16,
          0,
          0.07,
          0.24,
          0.09,
          0.08,
          0.17,
          10.58,
          0.1,
          0.05
         ]
        }
       ],
       "layout": {
        "coloraxis": {
         "colorbar": {
          "title": {
           "text": "Jaccard Score"
          }
         },
         "colorscale": [
          [
           0,
           "#0d0887"
          ],
          [
           0.1111111111111111,
           "#46039f"
          ],
          [
           0.2222222222222222,
           "#7201a8"
          ],
          [
           0.3333333333333333,
           "#9c179e"
          ],
          [
           0.4444444444444444,
           "#bd3786"
          ],
          [
           0.5555555555555556,
           "#d8576b"
          ],
          [
           0.6666666666666666,
           "#ed7953"
          ],
          [
           0.7777777777777778,
           "#fb9f3a"
          ],
          [
           0.8888888888888888,
           "#fdca26"
          ],
          [
           1,
           "#f0f921"
          ]
         ]
        },
        "legend": {
         "tracegroupgap": 0
        },
        "scene": {
         "domain": {
          "x": [
           0,
           1
          ],
          "y": [
           0,
           1
          ]
         },
         "xaxis": {
          "title": {
           "text": "Jaccard"
          }
         },
         "yaxis": {
          "title": {
           "text": "CMC"
          }
         },
         "zaxis": {
          "title": {
           "text": "Menor Preço"
          }
         }
        },
        "template": {
         "data": {
          "bar": [
           {
            "error_x": {
             "color": "#2a3f5f"
            },
            "error_y": {
             "color": "#2a3f5f"
            },
            "marker": {
             "line": {
              "color": "#E5ECF6",
              "width": 0.5
             },
             "pattern": {
              "fillmode": "overlay",
              "size": 10,
              "solidity": 0.2
             }
            },
            "type": "bar"
           }
          ],
          "barpolar": [
           {
            "marker": {
             "line": {
              "color": "#E5ECF6",
              "width": 0.5
             },
             "pattern": {
              "fillmode": "overlay",
              "size": 10,
              "solidity": 0.2
             }
            },
            "type": "barpolar"
           }
          ],
          "carpet": [
           {
            "aaxis": {
             "endlinecolor": "#2a3f5f",
             "gridcolor": "white",
             "linecolor": "white",
             "minorgridcolor": "white",
             "startlinecolor": "#2a3f5f"
            },
            "baxis": {
             "endlinecolor": "#2a3f5f",
             "gridcolor": "white",
             "linecolor": "white",
             "minorgridcolor": "white",
             "startlinecolor": "#2a3f5f"
            },
            "type": "carpet"
           }
          ],
          "choropleth": [
           {
            "colorbar": {
             "outlinewidth": 0,
             "ticks": ""
            },
            "type": "choropleth"
           }
          ],
          "contour": [
           {
            "colorbar": {
             "outlinewidth": 0,
             "ticks": ""
            },
            "colorscale": [
             [
              0,
              "#0d0887"
             ],
             [
              0.1111111111111111,
              "#46039f"
             ],
             [
              0.2222222222222222,
              "#7201a8"
             ],
             [
              0.3333333333333333,
              "#9c179e"
             ],
             [
              0.4444444444444444,
              "#bd3786"
             ],
             [
              0.5555555555555556,
              "#d8576b"
             ],
             [
              0.6666666666666666,
              "#ed7953"
             ],
             [
              0.7777777777777778,
              "#fb9f3a"
             ],
             [
              0.8888888888888888,
              "#fdca26"
             ],
             [
              1,
              "#f0f921"
             ]
            ],
            "type": "contour"
           }
          ],
          "contourcarpet": [
           {
            "colorbar": {
             "outlinewidth": 0,
             "ticks": ""
            },
            "type": "contourcarpet"
           }
          ],
          "heatmap": [
           {
            "colorbar": {
             "outlinewidth": 0,
             "ticks": ""
            },
            "colorscale": [
             [
              0,
              "#0d0887"
             ],
             [
              0.1111111111111111,
              "#46039f"
             ],
             [
              0.2222222222222222,
              "#7201a8"
             ],
             [
              0.3333333333333333,
              "#9c179e"
             ],
             [
              0.4444444444444444,
              "#bd3786"
             ],
             [
              0.5555555555555556,
              "#d8576b"
             ],
             [
              0.6666666666666666,
              "#ed7953"
             ],
             [
              0.7777777777777778,
              "#fb9f3a"
             ],
             [
              0.8888888888888888,
              "#fdca26"
             ],
             [
              1,
              "#f0f921"
             ]
            ],
            "type": "heatmap"
           }
          ],
          "heatmapgl": [
           {
            "colorbar": {
             "outlinewidth": 0,
             "ticks": ""
            },
            "colorscale": [
             [
              0,
              "#0d0887"
             ],
             [
              0.1111111111111111,
              "#46039f"
             ],
             [
              0.2222222222222222,
              "#7201a8"
             ],
             [
              0.3333333333333333,
              "#9c179e"
             ],
             [
              0.4444444444444444,
              "#bd3786"
             ],
             [
              0.5555555555555556,
              "#d8576b"
             ],
             [
              0.6666666666666666,
              "#ed7953"
             ],
             [
              0.7777777777777778,
              "#fb9f3a"
             ],
             [
              0.8888888888888888,
              "#fdca26"
             ],
             [
              1,
              "#f0f921"
             ]
            ],
            "type": "heatmapgl"
           }
          ],
          "histogram": [
           {
            "marker": {
             "pattern": {
              "fillmode": "overlay",
              "size": 10,
              "solidity": 0.2
             }
            },
            "type": "histogram"
           }
          ],
          "histogram2d": [
           {
            "colorbar": {
             "outlinewidth": 0,
             "ticks": ""
            },
            "colorscale": [
             [
              0,
              "#0d0887"
             ],
             [
              0.1111111111111111,
              "#46039f"
             ],
             [
              0.2222222222222222,
              "#7201a8"
             ],
             [
              0.3333333333333333,
              "#9c179e"
             ],
             [
              0.4444444444444444,
              "#bd3786"
             ],
             [
              0.5555555555555556,
              "#d8576b"
             ],
             [
              0.6666666666666666,
              "#ed7953"
             ],
             [
              0.7777777777777778,
              "#fb9f3a"
             ],
             [
              0.8888888888888888,
              "#fdca26"
             ],
             [
              1,
              "#f0f921"
             ]
            ],
            "type": "histogram2d"
           }
          ],
          "histogram2dcontour": [
           {
            "colorbar": {
             "outlinewidth": 0,
             "ticks": ""
            },
            "colorscale": [
             [
              0,
              "#0d0887"
             ],
             [
              0.1111111111111111,
              "#46039f"
             ],
             [
              0.2222222222222222,
              "#7201a8"
             ],
             [
              0.3333333333333333,
              "#9c179e"
             ],
             [
              0.4444444444444444,
              "#bd3786"
             ],
             [
              0.5555555555555556,
              "#d8576b"
             ],
             [
              0.6666666666666666,
              "#ed7953"
             ],
             [
              0.7777777777777778,
              "#fb9f3a"
             ],
             [
              0.8888888888888888,
              "#fdca26"
             ],
             [
              1,
              "#f0f921"
             ]
            ],
            "type": "histogram2dcontour"
           }
          ],
          "mesh3d": [
           {
            "colorbar": {
             "outlinewidth": 0,
             "ticks": ""
            },
            "type": "mesh3d"
           }
          ],
          "parcoords": [
           {
            "line": {
             "colorbar": {
              "outlinewidth": 0,
              "ticks": ""
             }
            },
            "type": "parcoords"
           }
          ],
          "pie": [
           {
            "automargin": true,
            "type": "pie"
           }
          ],
          "scatter": [
           {
            "fillpattern": {
             "fillmode": "overlay",
             "size": 10,
             "solidity": 0.2
            },
            "type": "scatter"
           }
          ],
          "scatter3d": [
           {
            "line": {
             "colorbar": {
              "outlinewidth": 0,
              "ticks": ""
             }
            },
            "marker": {
             "colorbar": {
              "outlinewidth": 0,
              "ticks": ""
             }
            },
            "type": "scatter3d"
           }
          ],
          "scattercarpet": [
           {
            "marker": {
             "colorbar": {
              "outlinewidth": 0,
              "ticks": ""
             }
            },
            "type": "scattercarpet"
           }
          ],
          "scattergeo": [
           {
            "marker": {
             "colorbar": {
              "outlinewidth": 0,
              "ticks": ""
             }
            },
            "type": "scattergeo"
           }
          ],
          "scattergl": [
           {
            "marker": {
             "colorbar": {
              "outlinewidth": 0,
              "ticks": ""
             }
            },
            "type": "scattergl"
           }
          ],
          "scattermapbox": [
           {
            "marker": {
             "colorbar": {
              "outlinewidth": 0,
              "ticks": ""
             }
            },
            "type": "scattermapbox"
           }
          ],
          "scatterpolar": [
           {
            "marker": {
             "colorbar": {
              "outlinewidth": 0,
              "ticks": ""
             }
            },
            "type": "scatterpolar"
           }
          ],
          "scatterpolargl": [
           {
            "marker": {
             "colorbar": {
              "outlinewidth": 0,
              "ticks": ""
             }
            },
            "type": "scatterpolargl"
           }
          ],
          "scatterternary": [
           {
            "marker": {
             "colorbar": {
              "outlinewidth": 0,
              "ticks": ""
             }
            },
            "type": "scatterternary"
           }
          ],
          "surface": [
           {
            "colorbar": {
             "outlinewidth": 0,
             "ticks": ""
            },
            "colorscale": [
             [
              0,
              "#0d0887"
             ],
             [
              0.1111111111111111,
              "#46039f"
             ],
             [
              0.2222222222222222,
              "#7201a8"
             ],
             [
              0.3333333333333333,
              "#9c179e"
             ],
             [
              0.4444444444444444,
              "#bd3786"
             ],
             [
              0.5555555555555556,
              "#d8576b"
             ],
             [
              0.6666666666666666,
              "#ed7953"
             ],
             [
              0.7777777777777778,
              "#fb9f3a"
             ],
             [
              0.8888888888888888,
              "#fdca26"
             ],
             [
              1,
              "#f0f921"
             ]
            ],
            "type": "surface"
           }
          ],
          "table": [
           {
            "cells": {
             "fill": {
              "color": "#EBF0F8"
             },
             "line": {
              "color": "white"
             }
            },
            "header": {
             "fill": {
              "color": "#C8D4E3"
             },
             "line": {
              "color": "white"
             }
            },
            "type": "table"
           }
          ]
         },
         "layout": {
          "annotationdefaults": {
           "arrowcolor": "#2a3f5f",
           "arrowhead": 0,
           "arrowwidth": 1
          },
          "autotypenumbers": "strict",
          "coloraxis": {
           "colorbar": {
            "outlinewidth": 0,
            "ticks": ""
           }
          },
          "colorscale": {
           "diverging": [
            [
             0,
             "#8e0152"
            ],
            [
             0.1,
             "#c51b7d"
            ],
            [
             0.2,
             "#de77ae"
            ],
            [
             0.3,
             "#f1b6da"
            ],
            [
             0.4,
             "#fde0ef"
            ],
            [
             0.5,
             "#f7f7f7"
            ],
            [
             0.6,
             "#e6f5d0"
            ],
            [
             0.7,
             "#b8e186"
            ],
            [
             0.8,
             "#7fbc41"
            ],
            [
             0.9,
             "#4d9221"
            ],
            [
             1,
             "#276419"
            ]
           ],
           "sequential": [
            [
             0,
             "#0d0887"
            ],
            [
             0.1111111111111111,
             "#46039f"
            ],
            [
             0.2222222222222222,
             "#7201a8"
            ],
            [
             0.3333333333333333,
             "#9c179e"
            ],
            [
             0.4444444444444444,
             "#bd3786"
            ],
            [
             0.5555555555555556,
             "#d8576b"
            ],
            [
             0.6666666666666666,
             "#ed7953"
            ],
            [
             0.7777777777777778,
             "#fb9f3a"
            ],
            [
             0.8888888888888888,
             "#fdca26"
            ],
            [
             1,
             "#f0f921"
            ]
           ],
           "sequentialminus": [
            [
             0,
             "#0d0887"
            ],
            [
             0.1111111111111111,
             "#46039f"
            ],
            [
             0.2222222222222222,
             "#7201a8"
            ],
            [
             0.3333333333333333,
             "#9c179e"
            ],
            [
             0.4444444444444444,
             "#bd3786"
            ],
            [
             0.5555555555555556,
             "#d8576b"
            ],
            [
             0.6666666666666666,
             "#ed7953"
            ],
            [
             0.7777777777777778,
             "#fb9f3a"
            ],
            [
             0.8888888888888888,
             "#fdca26"
            ],
            [
             1,
             "#f0f921"
            ]
           ]
          },
          "colorway": [
           "#636efa",
           "#EF553B",
           "#00cc96",
           "#ab63fa",
           "#FFA15A",
           "#19d3f3",
           "#FF6692",
           "#B6E880",
           "#FF97FF",
           "#FECB52"
          ],
          "font": {
           "color": "#2a3f5f"
          },
          "geo": {
           "bgcolor": "white",
           "lakecolor": "white",
           "landcolor": "#E5ECF6",
           "showlakes": true,
           "showland": true,
           "subunitcolor": "white"
          },
          "hoverlabel": {
           "align": "left"
          },
          "hovermode": "closest",
          "mapbox": {
           "style": "light"
          },
          "paper_bgcolor": "white",
          "plot_bgcolor": "#E5ECF6",
          "polar": {
           "angularaxis": {
            "gridcolor": "white",
            "linecolor": "white",
            "ticks": ""
           },
           "bgcolor": "#E5ECF6",
           "radialaxis": {
            "gridcolor": "white",
            "linecolor": "white",
            "ticks": ""
           }
          },
          "scene": {
           "xaxis": {
            "backgroundcolor": "#E5ECF6",
            "gridcolor": "white",
            "gridwidth": 2,
            "linecolor": "white",
            "showbackground": true,
            "ticks": "",
            "zerolinecolor": "white"
           },
           "yaxis": {
            "backgroundcolor": "#E5ECF6",
            "gridcolor": "white",
            "gridwidth": 2,
            "linecolor": "white",
            "showbackground": true,
            "ticks": "",
            "zerolinecolor": "white"
           },
           "zaxis": {
            "backgroundcolor": "#E5ECF6",
            "gridcolor": "white",
            "gridwidth": 2,
            "linecolor": "white",
            "showbackground": true,
            "ticks": "",
            "zerolinecolor": "white"
           }
          },
          "shapedefaults": {
           "line": {
            "color": "#2a3f5f"
           }
          },
          "ternary": {
           "aaxis": {
            "gridcolor": "white",
            "linecolor": "white",
            "ticks": ""
           },
           "baxis": {
            "gridcolor": "white",
            "linecolor": "white",
            "ticks": ""
           },
           "bgcolor": "#E5ECF6",
           "caxis": {
            "gridcolor": "white",
            "linecolor": "white",
            "ticks": ""
           }
          },
          "title": {
           "x": 0.05
          },
          "xaxis": {
           "automargin": true,
           "gridcolor": "white",
           "linecolor": "white",
           "ticks": "",
           "title": {
            "standoff": 15
           },
           "zerolinecolor": "white",
           "zerolinewidth": 2
          },
          "yaxis": {
           "automargin": true,
           "gridcolor": "white",
           "linecolor": "white",
           "ticks": "",
           "title": {
            "standoff": 15
           },
           "zerolinecolor": "white",
           "zerolinewidth": 2
          }
         }
        },
        "title": {
         "text": "Cartas Semelhantes"
        }
       }
      }
     },
     "metadata": {},
     "output_type": "display_data"
    },
    {
     "name": "stdout",
     "output_type": "stream",
     "text": [
      "Média de Preço Mínimo para a carta:  (Mean(statistic=2.0295918367346935, minmax=(-0.12596083699368066, 4.185144510463067)), Variance(statistic=80.36829982253771, minmax=(56.31046741701004, 112.73456608645986)), Std_dev(statistic=8.916250886453945, minmax=(7.5040300783652265, 10.617653511320654)))\n",
      "Média de Preço Médio para a carta:  (Mean(statistic=3.5734693877551025, minmax=(-0.06756872481021059, 7.214507500320414)), Variance(statistic=229.3073371783496, minmax=(160.6653788517965, 321.65497110582675)), Std_dev(statistic=15.060828572850726, minmax=(12.675384761489354, 17.93474201391887)))\n",
      "Média de Preço Máximo para a carta:  (Mean(statistic=6.302448979591838, minmax=(0.6526809760778995, 11.952216983105775)), Variance(statistic=552.1139631765749, minmax=(386.84152088050377, 774.4636654803567)), Std_dev(statistic=23.369760147154782, minmax=(19.668287187259185, 27.82918729464367)))\n",
      "Mea Absolute Error (Random Forest): 0.05868703261098933, Mean Absolute Error (KNN): 0.051098497495826366, Menor Preço\n",
      "[[6.61777089]] [[9.18330551]]\n"
     ]
    },
    {
     "name": "stderr",
     "output_type": "stream",
     "text": [
      "c:\\Users\\drodm\\AppData\\Local\\Programs\\Python\\Python312\\Lib\\site-packages\\sklearn\\base.py:1473: DataConversionWarning:\n",
      "\n",
      "A column-vector y was passed when a 1d array was expected. Please change the shape of y to (n_samples,), for example using ravel().\n",
      "\n",
      "c:\\Users\\drodm\\AppData\\Local\\Programs\\Python\\Python312\\Lib\\site-packages\\sklearn\\base.py:1473: DataConversionWarning:\n",
      "\n",
      "A column-vector y was passed when a 1d array was expected. Please change the shape of y to (n_samples,), for example using ravel().\n",
      "\n"
     ]
    },
    {
     "name": "stdout",
     "output_type": "stream",
     "text": [
      "Mea Absolute Error (Random Forest): 0.054701905959058904, Mean Absolute Error (KNN): 0.048977916748094596, Preço Médio\n",
      "[[5.83930502]] [[8.642564]]\n",
      "Mea Absolute Error (Random Forest): 0.05268015380211174, Mean Absolute Error (KNN): 0.045845000000000004, Preço Máximo\n",
      "[[5.62834917]] [[7.468]]\n"
     ]
    },
    {
     "name": "stderr",
     "output_type": "stream",
     "text": [
      "c:\\Users\\drodm\\AppData\\Local\\Programs\\Python\\Python312\\Lib\\site-packages\\sklearn\\base.py:1473: DataConversionWarning:\n",
      "\n",
      "A column-vector y was passed when a 1d array was expected. Please change the shape of y to (n_samples,), for example using ravel().\n",
      "\n"
     ]
    }
   ],
   "source": [
    "import pandas as pd\n",
    "import numpy as np\n",
    "from sklearn.model_selection import train_test_split\n",
    "from sklearn.preprocessing import LabelEncoder, MinMaxScaler, StandardScaler\n",
    "from sklearn.cluster import KMeans\n",
    "from sklearn.pipeline import Pipeline\n",
    "from sklearn.metrics import silhouette_score, adjusted_rand_score\n",
    "from sklearn.ensemble import RandomForestRegressor\n",
    "from sklearn.neighbors import KNeighborsRegressor\n",
    "from sklearn.metrics import mean_absolute_error\n",
    "from umap import UMAP\n",
    "import plotly.express as px\n",
    "import dearpygui.dearpygui as dpg\n",
    "from nltk.corpus import stopwords\n",
    "from nltk.tokenize import word_tokenize\n",
    "from scipy import stats\n",
    "import nltk\n",
    "import warnings\n",
    "#warnings.filterwarnings(\"ignore\")\n",
    "nltk.download('punkt')\n",
    "nltk.download('stopwords')\n",
    "warnings.filterwarnings(\"ignore\")\n",
    "# Sample card types for selection\n",
    "card_types = [\"Creature\", \"Sorcery\", \"Instant\", \"Enchantment\", \"Planeswalker\", \"Land\", \"Artifact\", \"Artifact Creature\"]\n",
    "\n",
    "columns_by_type = {\n",
    "    'Creature': ['Total Mana Cost', 'Power', 'Toughness', 'Rarity Category','Jaccard Score'],\n",
    "    'Sorcery': ['Total Mana Cost', 'Rarity Category','Jaccard Score'],\n",
    "    'Instant': ['Total Mana Cost', 'Rarity Category','Jaccard Score'],\n",
    "    'Enchantment': ['Total Mana Cost', 'Rarity Category','Jaccard Score'],\n",
    "    'Planeswalker': ['Total Mana Cost', 'Rarity Category', 'loyalty','Jaccard Score'],\n",
    "    'Land': ['Rarity Category','Jaccard Score'],\n",
    "    'Artifact': ['Total Mana Cost', 'Rarity Category','Jaccard Score'],\n",
    "    'Artifact Creature': ['Total Mana Cost', 'Power', 'Toughness', 'Rarity Category','Jaccard Score']\n",
    "}\n",
    "# Sample rarity mapping\n",
    "rarity_mapping = {'common': 0, 'uncommon': 1, 'rare': 2, 'mythic': 3}\n",
    "\n",
    "class DataPreprocessing:\n",
    "    def __init__(self):\n",
    "        return None\n",
    "\n",
    "    def merging_data(self, data1, data2):\n",
    "        self.data1 = data1\n",
    "        self.data2 = data2\n",
    "        return data1.merge(data2[['Name', 'rarity', 'loyalty']], on='Name', how='left')\n",
    "    \n",
    "    def preprocess(self, data: pd.DataFrame, Card_Type: str):\n",
    "        self.data = data\n",
    "        data.dropna()\n",
    "        data.drop_duplicates(subset='Name', inplace=True)\n",
    "        data.drop(columns=[\"Unnamed: 0\",\"Unnamed: 0.1\"], inplace=True)\n",
    "        data.drop(columns=[\"Expansion Name\",\"Expansion Code\"], inplace=True)\n",
    "        data[['Price1', 'Price2', 'Price3']] = data[['Price1', 'Price2', 'Price3']].replace('[R$]', '', regex=True).replace(',','.',regex=True).apply(pd.to_numeric, errors='coerce')\n",
    "        # Convert the 'rarity' column to numeric categories\n",
    "        rarity_mapping = {'common': 0, 'uncommon': 1, 'rare': 2, 'mythic': 3}\n",
    "        data['Rarity Category'] = data['rarity'].map(rarity_mapping).fillna(-1).astype(int)\n",
    "        creatures = data[data['Card Type'].str.contains('Creature', na=False)].drop(columns=[\"Release Date\",'Color', 'Mana Cost','loyalty'], inplace=False)\n",
    "        creatures[['Total Mana Cost', 'Power', 'Toughness']] = creatures[['Total Mana Cost', 'Power', 'Toughness']].apply(pd.to_numeric, errors='coerce')\n",
    "        creatures = creatures[(creatures['Power'] != -1) & (creatures['Toughness'] != -1)].dropna(subset=['Power', 'Toughness', 'Oracle Text'])\n",
    "        sorcery = data[data['Card Type'].str.contains('Sorcery', na=False)].drop(columns=[\"Release Date\", 'Color', 'Mana Cost','Power','Toughness','loyalty'], inplace=False)\n",
    "        instant = data[data['Card Type'].str.contains('Instant', na=False)].drop(columns=[\"Release Date\", 'Color', 'Mana Cost','Power','Toughness','loyalty'], inplace=False)\n",
    "        enchantment = data[data['Card Type'].str.contains('Enchantment', na=False)].drop(columns=[\"Release Date\", 'Color', 'Mana Cost','Power','Toughness','loyalty'], inplace=False)\n",
    "        planeswalker = data[data['Card Type'].str.contains('Planeswalker', na=False)].drop(columns=[\"Release Date\", 'Color', 'Mana Cost','Power','Toughness'], inplace=False)\n",
    "        terr = data[data['Card Type'].str.contains('Land', na=False)].drop(columns=[\"Release Date\", 'Color','Total Mana Cost', 'Mana Cost','Power','Toughness','loyalty'], inplace=False)\n",
    "        art = data[data['Card Type'].str.contains('Artifact', na=False)].drop(columns=[\"Release Date\", 'Color', 'Mana Cost','loyalty'], inplace=False)\n",
    "        art_creatures = art[art['Card Type'].str.contains('Creature', na=False)]\n",
    "        art_creatures = art_creatures[(art_creatures['Power'] != -1) & (art_creatures['Toughness'] != -1)].dropna(subset=['Power', 'Toughness', 'Oracle Text'])\n",
    "        art_creatures[['Total Mana Cost', 'Power', 'Toughness']] = art_creatures[['Total Mana Cost', 'Power', 'Toughness']].apply(pd.to_numeric, errors='coerce')\n",
    "        art = art[~art['Card Type'].str.contains('Creature', na=False)].drop(columns=['Power','Toughness'], inplace=False)\n",
    "        art = art[~art['Card Type'].str.contains('Land', na=False)]\n",
    "\n",
    "        if(Card_Type == 'Creature'):\n",
    "            return creatures\n",
    "        elif(Card_Type == 'Sorcery'):\n",
    "            return sorcery\n",
    "        elif(Card_Type == 'Instant'):\n",
    "            return instant\n",
    "        elif(Card_Type == 'Enchantment'):\n",
    "            return enchantment\n",
    "        elif(Card_Type == 'Planeswalker'):\n",
    "            return planeswalker\n",
    "        elif(Card_Type == 'Land'):\n",
    "            return terr\n",
    "        elif(Card_Type == 'Artifact'):\n",
    "            return art\n",
    "        elif(Card_Type == 'Artifact Creature'):\n",
    "            return art_creatures\n",
    "        else:\n",
    "            return pd.DataFrame()  # Return an empty DataFrame for invalid Card Type\n",
    "\n",
    "class CardAnalyzer:\n",
    "    def __init__(self, df):\n",
    "        self.df = df\n",
    "        self.stop_words = set(stopwords.words('english'))\n",
    "        self.clustering_model = None\n",
    "        self.pipe = None\n",
    "        self.scale = MinMaxScaler()\n",
    "        self.rfr = RandomForestRegressor(n_estimators=100, random_state=42)\n",
    "        self.knn_regressor = KNeighborsRegressor(n_neighbors=5)\n",
    "\n",
    "    def clean_data(self, Card_Type: str):\n",
    "        print(self.df.columns)\n",
    "\n",
    "        \"\"\"Clean and filter the dataframe for creatures.\"\"\"\n",
    "        if(Card_Type == \"Creature\" or Card_Type == \"Artifact Creature\"):\n",
    "            self.df = self.df[(self.df['Power'] != -1) & (self.df['Toughness'] != -1)]\n",
    "            self.df = self.df.dropna(subset=['Power', 'Toughness', 'Oracle Text'])\n",
    "        elif(Card_Type == \"Planeswalker\"):\n",
    "            self.df = self.df.dropna(subset=['loyalty'])\n",
    "            self.df = self.df[self.df['loyalty'] != 'X']\n",
    "            self.df = self.df[self.df['Total Mana Cost'] != 'X']\n",
    "        elif(Card_Type == \"Sorcery\" or Card_Type == \"Instant\" or Card_Type == \"Enchantment\"):\n",
    "            self.df = self.df.dropna(subset=['Oracle Text'])\n",
    "            self.df = self.df.dropna(subset=['Price1','Price2','Price3'])\n",
    "        elif(Card_Type == \"Land\"):\n",
    "            self.df = self.df.dropna(subset=['Price1','Price2','Price3'])\n",
    "        elif(Card_Type == \"Artifact\"):\n",
    "            self.df = self.df.dropna(subset=['Oracle Text'])\n",
    "            self.df = self.df.dropna(subset=['Price1','Price2','Price3'])\n",
    "        else:\n",
    "            print(\"Tipo de carta não suportado\")\n",
    "            return None\n",
    "\n",
    "\n",
    "    def preprocess_text(self, text):\n",
    "        \"\"\"Tokenize and preprocess the text for Jaccard similarity.\"\"\"\n",
    "        tokens = word_tokenize(text.lower())\n",
    "        tokens = [token for token in tokens if token.isalnum() and token not in self.stop_words]\n",
    "        return set(tokens)\n",
    "    \n",
    "    def compute_jaccard_similarity(self, query):\n",
    "        \"\"\"Compute Jaccard similarity between a query and Oracle Text in the dataframe.\"\"\"\n",
    "        tokenized_query = self.preprocess_text(query)\n",
    "        self.df['Tokenized Oracle Text'] = self.df['Oracle Text'].dropna().apply(self.preprocess_text)\n",
    "        jaccard_scores = self.df['Tokenized Oracle Text'].apply(\n",
    "            lambda doc: self.jaccard_similarity(tokenized_query, doc)\n",
    "        )\n",
    "        self.df['Jaccard Score'] = 0\n",
    "        self.df.loc[self.df['Oracle Text'].notna(), 'Jaccard Score'] = jaccard_scores\n",
    "\n",
    "    @staticmethod\n",
    "    def jaccard_similarity(query_set, doc_set):\n",
    "        \"\"\"Compute Jaccard similarity between two sets of tokens.\"\"\"\n",
    "        intersection = len(query_set.intersection(doc_set))\n",
    "        union = len(query_set.union(doc_set))\n",
    "        return intersection / union if union != 0 else 0\n",
    "\n",
    "    def perform_clustering(self):\n",
    "        \"\"\"Cluster the dataset based on Jaccard scores.\"\"\"\n",
    "        self.clustering_model = KMeans(n_clusters=len(self.df['Jaccard Score'].unique()), random_state=42)\n",
    "        self.clustering_model.fit(self.df[['Jaccard Score']])\n",
    "        self.df[\"predicted_cluster\"] = self.clustering_model.labels_\n",
    "        return self.df, self.clustering_model\n",
    "\n",
    "    def train_pipe(self, feature, target):\n",
    "        \"\"\"Train the preprocessing pipeline and clustering model.\"\"\"\n",
    "        # Encode target labels\n",
    "        label_encoder = LabelEncoder()\n",
    "        true_labels = label_encoder.fit_transform(target)\n",
    "        n_clusters = len(label_encoder.classes_)\n",
    "        print(f\"Number of clusters: {n_clusters}\")\n",
    "\n",
    "        # Define preprocessing and clustering pipelines\n",
    "        preprocessor = Pipeline(\n",
    "            [\n",
    "                (\"scaler\", MinMaxScaler()),\n",
    "            ]\n",
    "        )\n",
    "        clusterer = Pipeline(\n",
    "            [\n",
    "                (\n",
    "                    \"kmeans\",\n",
    "                    KMeans(\n",
    "                        n_clusters=n_clusters,\n",
    "                        init=\"k-means++\",\n",
    "                        n_init=100,\n",
    "                        max_iter=10000,\n",
    "                        random_state=42,\n",
    "                    )\n",
    "                ),\n",
    "            ]\n",
    "        )\n",
    "        self.pipe = Pipeline([(\"preprocessor\", preprocessor), (\"clusterer\", clusterer)])\n",
    "        self.pipe.fit(feature)\n",
    "\n",
    "        # Transform data and obtain clustering results\n",
    "        preprocessed_data = self.pipe.named_steps['preprocessor'].transform(feature)\n",
    "        predicted_labels = self.pipe.named_steps['clusterer'].named_steps['kmeans'].labels_\n",
    "\n",
    "        # Evaluate clustering performance\n",
    "        silhouette = silhouette_score(preprocessed_data, predicted_labels)\n",
    "        ari = adjusted_rand_score(true_labels, predicted_labels)\n",
    "        print(f\"Silhouette Score: {silhouette}\")\n",
    "        print(f\"Adjusted Rand Index: {ari}\")\n",
    "\n",
    "        # Assign clusters to the dataframe\n",
    "        self.df[\"predicted_cluster\"] = predicted_labels\n",
    "\n",
    "        # Store the clustering model\n",
    "        self.clustering_model = self.pipe.named_steps['clusterer'].named_steps['kmeans']\n",
    "\n",
    "        return self.df, self.clustering_model\n",
    "\n",
    "    def predict_and_filter(self, clustering_model,busca):\n",
    "        \"\"\"Predict the cluster for a test text and filter the dataset accordingly.\"\"\"\n",
    "        test_text_jaccard_score = 1.0  # Assuming a given score\n",
    "        assigned_cluster = clustering_model.predict([[test_text_jaccard_score]])[0]\n",
    "        busca = np.append(busca,assigned_cluster)\n",
    "        \n",
    "        if self.pipe is None:\n",
    "            raise ValueError(\"Pipeline 'pipe' is not initialized.\")\n",
    "        \n",
    "        predicted = self.pipe.predict(busca.reshape(1, -1))\n",
    "        filtered_predict = self.df.loc[self.df['predicted_cluster'] == predicted.item()]\n",
    "        return filtered_predict\n",
    "\n",
    "    def visualize_3d(self, filtered_predict, Card_Type: str):\n",
    "\n",
    "        print('Carta mais semelhante: ',\n",
    "              filtered_predict.iloc[filtered_predict['Jaccard Score'].argmax()]['Name'],\n",
    "              'Texto da carta: ',\n",
    "              filtered_predict.iloc[filtered_predict['Jaccard Score'].argmax()]['Oracle Text'])\n",
    "        \"\"\"Visualize filtered predictions in a 3D scatter plot.\"\"\"\n",
    "        features = filtered_predict.drop(columns=['Oracle Text', 'Name', 'Card Type', 'Rarity Category', 'rarity', 'Tokenized Oracle Text'])\n",
    "        features = features.dropna()\n",
    "\n",
    "        umap_3d = UMAP(n_components=3, init=\"random\", random_state=42)\n",
    "        proj_3d = umap_3d.fit_transform(features)\n",
    "        y = filtered_predict[\"Total Mana Cost\"] if Card_Type != \"Land\" else filtered_predict[\"Rarity Category\"]\n",
    "        fig_3d = px.scatter_3d(\n",
    "            proj_3d,\n",
    "            y=y,\n",
    "            x=filtered_predict[\"Jaccard Score\"],\n",
    "            z=filtered_predict[\"Price1\"],\n",
    "            color=filtered_predict[\"Jaccard Score\"],\n",
    "            labels={\n",
    "                \"Jaccard Score\": \"Jaccard\",\n",
    "                \"Total Mana Cost\": \"CMC\",\n",
    "                \"Price1\": \"Menor Preço\",\n",
    "                \"color\": \"Jaccard Score\"\n",
    "            },\n",
    "            hover_data={\n",
    "                'Name': filtered_predict['Name']\n",
    "            },\n",
    "            title=\"Cartas Semelhantes\",\n",
    "        )\n",
    "        fig_3d.update_layout(\n",
    "        scene=dict(\n",
    "            xaxis_title='Jaccard',\n",
    "            yaxis_title='CMC',\n",
    "            zaxis_title='Menor Preço'\n",
    "            )\n",
    "        )\n",
    "\n",
    "        fig_3d.update_traces(marker=dict(size=5))\n",
    "        fig_3d.show()\n",
    "\n",
    "    def bayesian_analysis(self, filtered_predict):\n",
    "        \"\"\"Perform Bayesian analysis on the filtered data.\"\"\"\n",
    "        value_list = filtered_predict[[\"Price1\"]]\n",
    "        print('Média de Preço Mínimo para a carta: ',stats.bayes_mvs(value_list, 0.908))\n",
    "        value_list = filtered_predict[[\"Price2\"]]\n",
    "        print('Média de Preço Médio para a carta: ',stats.bayes_mvs(value_list, 0.908))\n",
    "        value_list = filtered_predict[[\"Price3\"]]\n",
    "        print('Média de Preço Máximo para a carta: ',stats.bayes_mvs(value_list, 0.908))\n",
    "        \n",
    "\n",
    "    def scale_data(self, features, target):\n",
    "        \"\"\"Scale the data using RobustScaler.\"\"\"\n",
    "        self.scale = MinMaxScaler()\n",
    "\n",
    "        return self.scale.fit_transform(features), self.scale.fit_transform(target.values.reshape(-1, 1))\n",
    "\n",
    "    def train_random_forest(self, X_train, y_train):\n",
    "        \"\"\"Train a Random Forest Regressor.\"\"\"\n",
    "        self.rfr.fit(X_train, y_train)\n",
    "\n",
    "    def train_knn(self, X_train, y_train):\n",
    "        \"\"\"Train a K-Nearest Neighbors Regressor.\"\"\"\n",
    "        try:\n",
    "            self.knn_regressor.fit(X_train, y_train)\n",
    "        except:\n",
    "            print('Poucas amostras para treino')\n",
    "\n",
    "    def evaluate_model(self, X_test, y_test):\n",
    "        \"\"\"Evaluate Random Forest and KNN models on test data.\"\"\"\n",
    "        no_knn = False\n",
    "        y_pred_rfr = self.rfr.predict(X_test)\n",
    "        try:\n",
    "            y_pred_knn = self.knn_regressor.predict(X_test)\n",
    "        except:\n",
    "            print('Poucas amostras para teste')\n",
    "            no_knn = True\n",
    "        \n",
    "        if(no_knn):\n",
    "            mse_knn = 0\n",
    "        else:\n",
    "            mse_knn = mean_absolute_error(y_test, y_pred_knn)\n",
    "            \n",
    "        mse_rfr = mean_absolute_error(y_test, y_pred_rfr)\n",
    "        \n",
    "        return mse_rfr, mse_knn, no_knn\n",
    "\n",
    "    def predict_value(self, busca, no_knn):\n",
    "        \"\"\"Predict values using both models.\"\"\"\n",
    "        test_predict_rfr = self.scale.inverse_transform(self.rfr.predict(busca.reshape(1, -1)).reshape(-1, 1))\n",
    "        if(no_knn):\n",
    "            test_predict_knn = 0\n",
    "        else:\n",
    "            test_predict_knn = self.scale.inverse_transform(self.knn_regressor.predict(busca.reshape(1, -1)).reshape(-1, 1))\n",
    "        \n",
    "        return test_predict_rfr, test_predict_knn   \n",
    "\n",
    "def create_busca(Card_Type: str, Power: int, Toughness: int, CMC: int, Rarity: str, Loyalty: int):\n",
    "    if(Card_Type == \"Planeswalker\"):\n",
    "        busca = np.array([CMC,Rarity,Loyalty,])\n",
    "    elif(Card_Type == \"Creature\" or Card_Type == \"Artifact Creature\"):\n",
    "        busca = np.array([CMC,Power,Toughness,Rarity])\n",
    "    elif(Card_Type == \"Sorcery\" or Card_Type == \"Instant\" or Card_Type == \"Enchantment\"):\n",
    "        busca = np.array([CMC,Rarity])\n",
    "    elif(Card_Type == \"Land\"):\n",
    "        busca = np.array([Rarity])\n",
    "    elif(Card_Type == \"Artifact\"):\n",
    "        busca = np.array([CMC,Rarity])\n",
    "    else:\n",
    "        print(\"Tipo de carta não suportado\")\n",
    "        return None\n",
    "    return busca\n",
    "\n",
    "def run(Card_Type: str, Texto_a_procurar: str, Power: int, Toughness: int, CMC: int, Rarity: str, Loyalty: int):\n",
    "    data1 = pd.read_csv(r'C:\\Users\\drodm\\OneDrive\\Documentos\\GitHub\\Mystic-Speculation-Clusterization-and-Semantic-search-for-Price-aproximation-on-Magic-Cards\\updated_merged_cleaned_with_expansions.csv')\n",
    "    data2 = pd.read_csv(r'C:\\Users\\drodm\\OneDrive\\Documentos\\GitHub\\Mystic-Speculation-Clusterization-and-Semantic-search-for-Price-aproximation-on-Magic-Cards\\expanded_expansions_with_cards.csv')        \n",
    "    # Initialize DataPreprocessing and preprocess data\n",
    "    data_preprocessor = DataPreprocessing()\n",
    "    data = data_preprocessor.merging_data(data1, data2)\n",
    "    Card_Type = Card_Type\n",
    "    busca = create_busca(Card_Type, Power, Toughness, CMC, Rarity, Loyalty)\n",
    "    \n",
    "    df = data_preprocessor.preprocess(data, Card_Type)\n",
    "    # Initialize CardAnalyzer\n",
    "    analyzer = CardAnalyzer(df)\n",
    "    analyzer.clean_data(Card_Type)\n",
    "    Texto_a_procurar = Texto_a_procurar\n",
    "    \n",
    "    analyzer.compute_jaccard_similarity(Texto_a_procurar)\n",
    "    df, clustering_model = analyzer.perform_clustering()\n",
    "    if Card_Type == \"Planeswalker\":\n",
    "        # Train the pipeline\n",
    "        analyzer.train_pipe(df[['Total Mana Cost', 'Rarity Category','predicted_cluster','loyalty']], df[\"Jaccard Score\"])\n",
    "    elif Card_Type == \"Creature\" or Card_Type == \"Artifact Creature\":\n",
    "        # Train the pipeline\n",
    "        analyzer.train_pipe(df[['Total Mana Cost', 'Power', 'Toughness', 'Rarity Category','predicted_cluster']], df[\"Jaccard Score\"])\n",
    "    elif Card_Type == \"Sorcery\" or Card_Type == \"Instant\" or Card_Type == \"Enchantment\":\n",
    "        # Train the pipeline\n",
    "        analyzer.train_pipe(df[['Total Mana Cost', 'Rarity Category','predicted_cluster']], df[\"Jaccard Score\"])\n",
    "    elif Card_Type == \"Land\":\n",
    "        # Train the pipeline\n",
    "        analyzer.train_pipe(df[['Rarity Category','predicted_cluster']], df[\"Jaccard Score\"])\n",
    "    elif Card_Type == \"Artifact\":\n",
    "        # Train the pipeline\n",
    "        analyzer.train_pipe(df[['Total Mana Cost', 'Rarity Category','predicted_cluster']], df[\"Jaccard Score\"])\n",
    "    # Predict and filter\n",
    "    else:\n",
    "        print(\"Tipo de carta não suportado\")\n",
    "        return None\n",
    "\n",
    "    \n",
    "    filtered_predict = analyzer.predict_and_filter(clustering_model,busca)\n",
    "    features, target = analyzer.scale_data(filtered_predict[columns_by_type[Card_Type]].dropna(), filtered_predict[\"Price1\"])\n",
    "    X_train_Minimum , X_test_Minimum, y_train_Minimum, y_test_Minimum = train_test_split(features, target, test_size=0.1, random_state=42)\n",
    "    features, target = analyzer.scale_data(filtered_predict[columns_by_type[Card_Type]].dropna(), filtered_predict[\"Price2\"])\n",
    "    X_train_Medium  , X_test_Medium, y_train_Medium, y_test_Medium = train_test_split(features, target, test_size=0.1, random_state=42)\n",
    "    features, target = analyzer.scale_data(filtered_predict[columns_by_type[Card_Type]].dropna(), filtered_predict[\"Price3\"])\n",
    "    X_train_Maximum, X_test_Maximum, y_train_Maximum, y_test_Maximum = train_test_split(features, target, test_size=0.1, random_state=42)\n",
    "    # Continue with visualization and analysis\n",
    "\n",
    "    analyzer.visualize_3d(filtered_predict, Card_Type)\n",
    "    analyzer.bayesian_analysis(filtered_predict)\n",
    "    analyzer.train_random_forest(X_train_Minimum, y_train_Minimum)\n",
    "    analyzer.train_knn(X_train_Minimum, y_train_Minimum)\n",
    "    mse_rfr, mse_knn, no_knn = analyzer.evaluate_model(X_test_Minimum, y_test_Minimum)\n",
    "\n",
    "    print(f\"Mea Absolute Error (Random Forest): {mse_rfr}, Mean Absolute Error (KNN): {mse_knn}, Menor Preço\")\n",
    "    test_predict_rfr, test_predict_knn = analyzer.predict_value(busca=np.append(busca,np.array([1.0])), no_knn=no_knn)\n",
    "    print(test_predict_rfr, test_predict_knn)\n",
    "\n",
    "    analyzer.train_random_forest(X_train_Medium, y_train_Medium)\n",
    "    analyzer.train_knn(X_train_Medium, y_train_Medium)\n",
    "    mse_rfr, mse_knn, no_knn = analyzer.evaluate_model(X_test_Medium, y_test_Medium)\n",
    "\n",
    "    print(f\"Mea Absolute Error (Random Forest): {mse_rfr}, Mean Absolute Error (KNN): {mse_knn}, Preço Médio\")\n",
    "    test_predict_rfr, test_predict_knn = analyzer.predict_value(busca=np.append(busca,np.array([1.0])), no_knn=no_knn)\n",
    "    print(test_predict_rfr, test_predict_knn)\n",
    "\n",
    "    analyzer.train_random_forest(X_train_Maximum, y_train_Maximum)\n",
    "    analyzer.train_knn(X_train_Maximum, y_train_Maximum)\n",
    "    mse_rfr, mse_knn, no_knn = analyzer.evaluate_model(X_test_Maximum, y_test_Maximum)\n",
    "\n",
    "    print(f\"Mea Absolute Error (Random Forest): {mse_rfr}, Mean Absolute Error (KNN): {mse_knn}, Preço Máximo\")\n",
    "    test_predict_rfr, test_predict_knn = analyzer.predict_value(busca=np.append(busca,np.array([1.0])), no_knn=no_knn)\n",
    "    print(test_predict_rfr, test_predict_knn)\n",
    "\n",
    "# Function to perform analysis after input\n",
    "# Function to perform analysis after input\n",
    "def run_analysis(card_type, mana_cost, card_text, power, toughness, rarity, loyalty):\n",
    "    # Print for debugging to ensure values are captured\n",
    "    print(f\"Card Type: {card_type}, Mana Cost: {mana_cost}, Text: {card_text}, Power: {power}, Toughness: {toughness}, Rarity: {rarity}, Loyalty: {loyalty}\")\n",
    "    \n",
    "    run(Card_Type=card_type, Texto_a_procurar=card_text, Power=power, Toughness=toughness, CMC=mana_cost, Rarity=rarity, Loyalty=loyalty)\n",
    "\n",
    "# Main GUI setup\n",
    "def main():\n",
    "    with dpg.window(label=\"Card Analyzer\", width=400, height=400):\n",
    "\n",
    "        # Card Type selector\n",
    "        dpg.add_combo(label=\"Select Card Type\", items=card_types, default_value=\"Creature\", tag=\"card_type_selector_unique\")\n",
    "        \n",
    "        # Mana cost input\n",
    "        mana_cost = dpg.add_input_int(label=\"Mana Cost\", tag=\"mana_cost_input_unique\")\n",
    "\n",
    "        # Card text input\n",
    "        card_text = dpg.add_input_text(label=\"Card Text\", tag=\"card_text_input_unique\")\n",
    "\n",
    "        # Power and Toughness (visible only if Creature or Artifact Creature)\n",
    "        with dpg.group(tag=\"creature_inputs_unique\", show=True):\n",
    "            power = dpg.add_input_int(label=\"Power\", tag=\"power_input_unique\")\n",
    "            toughness = dpg.add_input_int(label=\"Toughness\", tag=\"toughness_input_unique\")\n",
    "\n",
    "        # Loyalty (visible only if Planeswalker)\n",
    "        loyalty = dpg.add_input_int(label=\"Loyalty\", tag=\"loyalty_input_unique\", show=False)\n",
    "\n",
    "        # Rarity input\n",
    "        rarity = dpg.add_combo(label=\"Rarity\", items=list(rarity_mapping.keys()), tag=\"rarity_input_unique\")\n",
    "        \n",
    "        # Show/Hide inputs based on card type selection\n",
    "        def card_type_change_callback(sender, app_data):\n",
    "            card_type = dpg.get_value(\"card_type_selector_unique\")\n",
    "            if card_type in [\"Creature\", \"Artifact Creature\"]:\n",
    "                dpg.configure_item(\"creature_inputs_unique\", show=True)\n",
    "                dpg.configure_item(\"loyalty_input_unique\", show=False)\n",
    "            elif card_type == \"Planeswalker\":\n",
    "                dpg.configure_item(\"creature_inputs_unique\", show=False)\n",
    "                dpg.configure_item(\"loyalty_input_unique\", show=True)\n",
    "            elif card_type == \"Land\":\n",
    "                dpg.configure_item(\"creature_inputs_unique\", show=False)\n",
    "                dpg.configure_item(\"loyalty_input_unique\", show=False)\n",
    "                dpg.configure_item(\"mana_cost_input_unique\", show=False)\n",
    "            else:\n",
    "                dpg.configure_item(\"creature_inputs_unique\", show=False)\n",
    "                dpg.configure_item(\"loyalty_input_unique\", show=False)\n",
    "                dpg.configure_item(\"mana_cost_input_unique\", show=True)\n",
    "            \n",
    "\n",
    "        # Link card type change event\n",
    "        dpg.set_item_callback(\"card_type_selector_unique\", card_type_change_callback)\n",
    "\n",
    "        # Button to run the analysis\n",
    "        def on_button_click():\n",
    "            # Forcefully retrieve values from the input fields\n",
    "            card_type = dpg.get_value(\"card_type_selector_unique\")\n",
    "            try:\n",
    "                mana_cost = dpg.get_value(\"mana_cost_input_unique\")\n",
    "            except:\n",
    "                mana_cost = 0\n",
    "            try:\n",
    "                card_text = dpg.get_value(\"card_text_input_unique\")\n",
    "            except:\n",
    "                card_text = \"\"\n",
    "            try:\n",
    "                power = dpg.get_value(\"power_input_unique\")\n",
    "            except:\n",
    "                power = 0\n",
    "            try:\n",
    "                toughness = dpg.get_value(\"toughness_input_unique\")\n",
    "            except:\n",
    "                toughness = 0\n",
    "            try:\n",
    "                rarity = dpg.get_value(\"rarity_input_unique\")\n",
    "                numeric_rarity = rarity_mapping.get(rarity.lower(), -1)  # Retorna -1 se a raridade não for encontrada\n",
    "            except:\n",
    "                numeric_rarity = -1\n",
    "            if numeric_rarity == -1:\n",
    "                dpg.set_value(\"output_text\", f\"Raridade inválida: '{rarity}'. Por favor, selecione uma raridade válida.\")\n",
    "                return  \n",
    "            try:\n",
    "                loyalty = dpg.get_value(\"loyalty_input_unique\")\n",
    "            except:\n",
    "                loyalty = 0\n",
    "\n",
    "        \n",
    "            # Force pass values to run_analysis\n",
    "            run_analysis(card_type, mana_cost, card_text, power, toughness, numeric_rarity, loyalty)\n",
    "        \n",
    "        dpg.add_button(label=\"Run Analysis\", callback=on_button_click)\n",
    "\n",
    "# Initialize DearPyGui\n",
    "dpg.create_context()\n",
    "main()\n",
    "dpg.create_viewport(title='Card Analysis Tool', width=600, height=600)\n",
    "dpg.setup_dearpygui()\n",
    "dpg.show_viewport()\n",
    "dpg.start_dearpygui()\n",
    "dpg.destroy_context()"
   ]
  }
 ],
 "metadata": {
  "kernelspec": {
   "display_name": "Python 3",
   "language": "python",
   "name": "python3"
  },
  "language_info": {
   "codemirror_mode": {
    "name": "ipython",
    "version": 3
   },
   "file_extension": ".py",
   "mimetype": "text/x-python",
   "name": "python",
   "nbconvert_exporter": "python",
   "pygments_lexer": "ipython3",
   "version": "3.12.6"
  }
 },
 "nbformat": 4,
 "nbformat_minor": 2
}
